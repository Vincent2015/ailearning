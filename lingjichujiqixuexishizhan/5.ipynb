{
 "cells": [
  {
   "cell_type": "code",
   "execution_count": 3,
   "id": "45c7381a-753e-4bbc-8296-3f9d7304f3ad",
   "metadata": {},
   "outputs": [
    {
     "data": {
      "text/plain": [
       "0    1\n",
       "1    3\n",
       "2    5\n",
       "3    7\n",
       "4    9\n",
       "dtype: int64"
      ]
     },
     "execution_count": 3,
     "metadata": {},
     "output_type": "execute_result"
    }
   ],
   "source": [
    "import pandas as pd\n",
    "s = pd.Series([1,3,5,7,9])\n",
    "s"
   ]
  },
  {
   "cell_type": "markdown",
   "id": "353e51e0-6a33-4bd7-a370-a3dece40fd2f",
   "metadata": {},
   "source": []
  },
  {
   "cell_type": "code",
   "execution_count": 7,
   "id": "6f912848-be29-429c-a797-1fd44766889b",
   "metadata": {},
   "outputs": [
    {
     "name": "stdout",
     "output_type": "stream",
     "text": [
      "姓名: 20\n",
      "年龄: 小雪\n",
      "姓名: 咖哥\n",
      "年龄: 48\n"
     ]
    }
   ],
   "source": [
    "def printUser(name,age):\n",
    "    print('姓名:' ,name)\n",
    "    print('年龄:',age)\n",
    "    return\n",
    "\n",
    "printUser(20, '小雪')\n",
    "printUser(age=48,name='咖哥')"
   ]
  },
  {
   "cell_type": "code",
   "execution_count": 10,
   "id": "a7cfb3e7-323a-4a7e-bd40-ef4d83f85d4f",
   "metadata": {},
   "outputs": [
    {
     "name": "stdout",
     "output_type": "stream",
     "text": [
      "Data Analysis\n",
      "[1, 2, 3, 4, 5]\n",
      "['咖哥', '马总', '小冰', '小雪']\n",
      "[['用户1', '咖哥', '250.00'], ['用户2', '小雪', '58.00'], ['用户3', '马总', '1000.00']]\n"
     ]
    }
   ],
   "source": [
    "aStr ='Data Analysis'\n",
    "aList = [1,2,3,4,5]\n",
    "userList = ['咖哥','马总','小冰','小雪']\n",
    "pList = [['用户1','咖哥','250.00'],['用户2','小雪','58.00'],['用户3','马总','1000.00']]\n",
    "print(aStr)\n",
    "print(aList)\n",
    "print(userList)\n",
    "print(pList)"
   ]
  },
  {
   "cell_type": "code",
   "execution_count": 11,
   "id": "decbf1f2-c183-48ed-9103-214e1c5fa5df",
   "metadata": {},
   "outputs": [
    {
     "data": {
      "text/plain": [
       "'D'"
      ]
     },
     "execution_count": 11,
     "metadata": {},
     "output_type": "execute_result"
    }
   ],
   "source": [
    "aChar = aStr[0]\n",
    "aChar"
   ]
  },
  {
   "cell_type": "code",
   "execution_count": 12,
   "id": "4d73962d-6f8d-440e-8dda-ec8f92cbc6e8",
   "metadata": {},
   "outputs": [
    {
     "data": {
      "text/plain": [
       "'马总'"
      ]
     },
     "execution_count": 12,
     "metadata": {},
     "output_type": "execute_result"
    }
   ],
   "source": [
    "aUser = userList[1]\n",
    "aUser"
   ]
  },
  {
   "cell_type": "code",
   "execution_count": 13,
   "id": "ce845fbf-fd12-44e8-956c-2c6a746c5616",
   "metadata": {},
   "outputs": [
    {
     "data": {
      "text/plain": [
       "[3, 4]"
      ]
     },
     "execution_count": 13,
     "metadata": {},
     "output_type": "execute_result"
    }
   ],
   "source": [
    "bList = aList[2:4]\n",
    "bList"
   ]
  },
  {
   "cell_type": "code",
   "execution_count": 16,
   "id": "2547699f-ff10-46ad-aed2-318078a9c74a",
   "metadata": {},
   "outputs": [
    {
     "name": "stdout",
     "output_type": "stream",
     "text": [
      "咖哥\n",
      "马总\n",
      "小冰\n",
      "小雪\n"
     ]
    }
   ],
   "source": [
    "for eachUser in userList:\n",
    "    print(eachUser)"
   ]
  },
  {
   "cell_type": "code",
   "execution_count": 17,
   "id": "ac586cc4-daef-4503-8a66-2017ecbe4d02",
   "metadata": {},
   "outputs": [
    {
     "name": "stdout",
     "output_type": "stream",
     "text": [
      "咖哥\n",
      "马总\n",
      "小冰\n",
      "小雪\n"
     ]
    }
   ],
   "source": [
    "for index in range(len(userList)):\n",
    "    print(userList[index])"
   ]
  },
  {
   "cell_type": "code",
   "execution_count": 22,
   "id": "0a071c3c-092d-4f60-be57-f918639a34ee",
   "metadata": {},
   "outputs": [
    {
     "data": {
      "text/plain": [
       "('咖哥', '马总', '小冰', '小雪')"
      ]
     },
     "execution_count": 22,
     "metadata": {},
     "output_type": "execute_result"
    }
   ],
   "source": [
    "x = tuple(userList)\n",
    "x\n"
   ]
  },
  {
   "cell_type": "code",
   "execution_count": 23,
   "id": "6841ba6b-9505-44a3-8db8-5738dadc3895",
   "metadata": {},
   "outputs": [
    {
     "data": {
      "text/plain": [
       "['咖哥', '马总', '小冰', '小雪']"
      ]
     },
     "execution_count": 23,
     "metadata": {},
     "output_type": "execute_result"
    }
   ],
   "source": [
    "y = list(x)\n",
    "y"
   ]
  },
  {
   "cell_type": "markdown",
   "id": "1cfd539b-e441-4853-9ca7-37a2067d6155",
   "metadata": {},
   "source": [
    "reversed没有起作用"
   ]
  },
  {
   "cell_type": "code",
   "execution_count": 32,
   "id": "537fa188-9a19-4d8f-a779-9dda3a5d1aa5",
   "metadata": {},
   "outputs": [
    {
     "data": {
      "text/plain": [
       "<list_reverseiterator at 0x1185a7460>"
      ]
     },
     "execution_count": 32,
     "metadata": {},
     "output_type": "execute_result"
    }
   ],
   "source": [
    "z=reversed(aList)\n",
    "z"
   ]
  },
  {
   "cell_type": "markdown",
   "id": "2e28f9c2-9ac8-473b-a6ff-da763af5cc6e",
   "metadata": {},
   "source": [
    "copy是针对深层对象来讲的，区分直接赋值，copy，deepcopy"
   ]
  },
  {
   "cell_type": "code",
   "execution_count": 63,
   "id": "ad64608b-6bc0-4e59-be49-2418443b0cb9",
   "metadata": {},
   "outputs": [
    {
     "data": {
      "text/plain": [
       "['咖哥', [['1'], '小冰'], '小雪']"
      ]
     },
     "execution_count": 63,
     "metadata": {},
     "output_type": "execute_result"
    }
   ],
   "source": [
    "import copy\n",
    "userListA = ['咖哥', ['马总', '小冰'], '小雪']\n",
    "userListB = userListA\n",
    "userListB[1][0] = ['咖哥']\n",
    "#print(userListA)\n",
    "#print(userListB)\n",
    "\n",
    "userListC =copy.copy(userListB)\n",
    "userListC[1][0] = ['1']\n",
    "#print(userListA)\n",
    "\n",
    "#userListD =userListA.deepCopy()\n",
    "userListD = copy.deepcopy(userListA)\n",
    "\n",
    "userListD[1][0] = ['2']\n",
    "userListA"
   ]
  },
  {
   "cell_type": "code",
   "execution_count": 85,
   "id": "af655cf4-0dba-4705-8062-751ea673cfdc",
   "metadata": {},
   "outputs": [
    {
     "data": {
      "text/plain": [
       "[(5,), (2, 5), (5,), (5,), (3, 2, 2)]"
      ]
     },
     "execution_count": 85,
     "metadata": {},
     "output_type": "execute_result"
    }
   ],
   "source": [
    "import numpy as np\n",
    "npArray01 = np.array([1,2,3,4,5]) # 一阶\n",
    "npArray02 = np.array([[1,2,3,4,5],[1,2,3,4,5]],dtype=int) # 二阶\n",
    "npArray03 = np.arange(0,5,1)\n",
    "npArray04= np.linspace(0,1,5)\n",
    "npArray05 = np.random.rand(3,2,2)\n",
    "'''\n",
    "print(npArray01,\n",
    "npArray02,\n",
    "npArray03,\n",
    "npArray04,\n",
    "npArray05)\n",
    "'''\n",
    "[npArray01.ndim,npArray02.ndim,npArray03.ndim,npArray04.ndim,npArray05.ndim,]\n",
    "[npArray01.shape,npArray02.shape,npArray03.shape,npArray04.shape,npArray05.shape,]\n"
   ]
  },
  {
   "cell_type": "code",
   "execution_count": 86,
   "id": "3af021f7-6ce8-41c4-a1a6-96515fc512a3",
   "metadata": {},
   "outputs": [
    {
     "data": {
      "text/plain": [
       "0.9244166242610053"
      ]
     },
     "execution_count": 86,
     "metadata": {},
     "output_type": "execute_result"
    }
   ],
   "source": [
    "npArray05[2][1][1]"
   ]
  },
  {
   "cell_type": "code",
   "execution_count": 89,
   "id": "e16c0795-c385-4043-b08e-cf213a40f5ea",
   "metadata": {},
   "outputs": [
    {
     "data": {
      "text/plain": [
       "array([2, 3])"
      ]
     },
     "execution_count": 89,
     "metadata": {},
     "output_type": "execute_result"
    }
   ],
   "source": [
    "npArray02[1,1:3]"
   ]
  },
  {
   "cell_type": "code",
   "execution_count": 91,
   "id": "1b91495b-e361-42cb-a755-da73bc4483dc",
   "metadata": {},
   "outputs": [
    {
     "data": {
      "text/plain": [
       "array([1, 1])"
      ]
     },
     "execution_count": 91,
     "metadata": {},
     "output_type": "execute_result"
    }
   ],
   "source": [
    "npArray02[:,0]"
   ]
  },
  {
   "cell_type": "code",
   "execution_count": 92,
   "id": "b2e82514-148d-47b6-afcb-302fbec19c81",
   "metadata": {},
   "outputs": [
    {
     "data": {
      "text/plain": [
       "array([1, 2, 3, 4, 5])"
      ]
     },
     "execution_count": 92,
     "metadata": {},
     "output_type": "execute_result"
    }
   ],
   "source": [
    "npArray02[1,:]"
   ]
  },
  {
   "cell_type": "code",
   "execution_count": 94,
   "id": "416d8fd1-63ba-4f99-b703-2f2c807e987c",
   "metadata": {},
   "outputs": [
    {
     "data": {
      "text/plain": [
       "(array([[0, 1, 2],\n",
       "        [3, 4, 5]]),\n",
       " array([[ 0,  2,  4],\n",
       "        [ 6,  8, 10]]))"
      ]
     },
     "execution_count": 94,
     "metadata": {},
     "output_type": "execute_result"
    }
   ],
   "source": [
    "npArray06 = np.arange(6,dtype=int).reshape((2,3))\n",
    "npArray07 = np.arange(6,dtype=int).reshape((2,3))*2\n",
    "\n",
    "npArray06,npArray07"
   ]
  },
  {
   "cell_type": "code",
   "execution_count": 95,
   "id": "d958d205-e806-483a-9b2f-d082a699afb1",
   "metadata": {},
   "outputs": [
    {
     "data": {
      "text/plain": [
       "array([[ 0,  3,  6],\n",
       "       [ 9, 12, 15]])"
      ]
     },
     "execution_count": 95,
     "metadata": {},
     "output_type": "execute_result"
    }
   ],
   "source": [
    "npArray08 =npArray06 + npArray07\n",
    "npArray08"
   ]
  },
  {
   "cell_type": "code",
   "execution_count": 100,
   "id": "b77d835a-8a1b-4351-ab05-67bfa3475173",
   "metadata": {},
   "outputs": [
    {
     "data": {
      "text/plain": [
       "(array([[0, 1, 2],\n",
       "        [3, 4, 5]]),\n",
       " array([[0, 1, 2]]),\n",
       " array([[0, 2, 4],\n",
       "        [3, 5, 7]]))"
      ]
     },
     "execution_count": 100,
     "metadata": {},
     "output_type": "execute_result"
    }
   ],
   "source": [
    "npArray09 = np.arange(6,dtype=int).reshape((2,3))\n",
    "npArray10 = np.arange(3,dtype=int).reshape((1,3))\n",
    "#npArray11 = npArray09*npArray10\n",
    "npArray11 = npArray09+npArray10\n",
    "npArray09,npArray10,npArray11"
   ]
  },
  {
   "cell_type": "code",
   "execution_count": 103,
   "id": "50321bf4-37ca-4de2-9a3f-f596385d17e6",
   "metadata": {},
   "outputs": [
    {
     "name": "stdout",
     "output_type": "stream",
     "text": [
      "[[',' '姓名' '年龄']\n",
      " ['用户1' '小雪' '24']\n",
      " ['用户2' '咖哥' '48']]\n"
     ]
    }
   ],
   "source": [
    "#import pandas as pd\n",
    "array = np.array([[',','姓名','年龄'],['用户1','小雪',24],['用户2','咖哥',48]])\n",
    "print(array)"
   ]
  },
  {
   "cell_type": "code",
   "execution_count": 105,
   "id": "4e3278fa-74f5-4c1f-b51c-5507db6ab643",
   "metadata": {},
   "outputs": [
    {
     "data": {
      "text/html": [
       "<div>\n",
       "<style scoped>\n",
       "    .dataframe tbody tr th:only-of-type {\n",
       "        vertical-align: middle;\n",
       "    }\n",
       "\n",
       "    .dataframe tbody tr th {\n",
       "        vertical-align: top;\n",
       "    }\n",
       "\n",
       "    .dataframe thead th {\n",
       "        text-align: right;\n",
       "    }\n",
       "</style>\n",
       "<table border=\"1\" class=\"dataframe\">\n",
       "  <thead>\n",
       "    <tr style=\"text-align: right;\">\n",
       "      <th></th>\n",
       "      <th>姓名</th>\n",
       "      <th>年龄</th>\n",
       "    </tr>\n",
       "  </thead>\n",
       "  <tbody>\n",
       "    <tr>\n",
       "      <th>用户1</th>\n",
       "      <td>小雪</td>\n",
       "      <td>24</td>\n",
       "    </tr>\n",
       "    <tr>\n",
       "      <th>用户2</th>\n",
       "      <td>咖哥</td>\n",
       "      <td>48</td>\n",
       "    </tr>\n",
       "  </tbody>\n",
       "</table>\n",
       "</div>"
      ],
      "text/plain": [
       "     姓名  年龄\n",
       "用户1  小雪  24\n",
       "用户2  咖哥  48"
      ]
     },
     "execution_count": 105,
     "metadata": {},
     "output_type": "execute_result"
    }
   ],
   "source": [
    "df0 = pd.DataFrame(data=array[1:,1:],index=array[1:,0],columns=array[0,1:])\n",
    "df0"
   ]
  },
  {
   "cell_type": "code",
   "execution_count": 104,
   "id": "e3cfe576-bc99-4e0e-bb48-610563c14e7f",
   "metadata": {},
   "outputs": [
    {
     "data": {
      "text/html": [
       "<div>\n",
       "<style scoped>\n",
       "    .dataframe tbody tr th:only-of-type {\n",
       "        vertical-align: middle;\n",
       "    }\n",
       "\n",
       "    .dataframe tbody tr th {\n",
       "        vertical-align: top;\n",
       "    }\n",
       "\n",
       "    .dataframe thead th {\n",
       "        text-align: right;\n",
       "    }\n",
       "</style>\n",
       "<table border=\"1\" class=\"dataframe\">\n",
       "  <thead>\n",
       "    <tr style=\"text-align: right;\">\n",
       "      <th></th>\n",
       "      <th>0</th>\n",
       "      <th>1</th>\n",
       "      <th>2</th>\n",
       "    </tr>\n",
       "  </thead>\n",
       "  <tbody>\n",
       "    <tr>\n",
       "      <th>0</th>\n",
       "      <td>,</td>\n",
       "      <td>姓名</td>\n",
       "      <td>年龄</td>\n",
       "    </tr>\n",
       "    <tr>\n",
       "      <th>1</th>\n",
       "      <td>用户1</td>\n",
       "      <td>小雪</td>\n",
       "      <td>24</td>\n",
       "    </tr>\n",
       "    <tr>\n",
       "      <th>2</th>\n",
       "      <td>用户2</td>\n",
       "      <td>咖哥</td>\n",
       "      <td>48</td>\n",
       "    </tr>\n",
       "  </tbody>\n",
       "</table>\n",
       "</div>"
      ],
      "text/plain": [
       "     0   1   2\n",
       "0    ,  姓名  年龄\n",
       "1  用户1  小雪  24\n",
       "2  用户2  咖哥  48"
      ]
     },
     "execution_count": 104,
     "metadata": {},
     "output_type": "execute_result"
    }
   ],
   "source": [
    "\n",
    "df = pd.DataFrame(array)\n",
    "df\n"
   ]
  },
  {
   "cell_type": "code",
   "execution_count": 106,
   "id": "54f4822f-31ad-4cb2-856f-eae06b6eef4f",
   "metadata": {},
   "outputs": [
    {
     "data": {
      "text/html": [
       "<div>\n",
       "<style scoped>\n",
       "    .dataframe tbody tr th:only-of-type {\n",
       "        vertical-align: middle;\n",
       "    }\n",
       "\n",
       "    .dataframe tbody tr th {\n",
       "        vertical-align: top;\n",
       "    }\n",
       "\n",
       "    .dataframe thead th {\n",
       "        text-align: right;\n",
       "    }\n",
       "</style>\n",
       "<table border=\"1\" class=\"dataframe\">\n",
       "  <thead>\n",
       "    <tr style=\"text-align: right;\">\n",
       "      <th></th>\n",
       "      <th>用户编号</th>\n",
       "      <th>年龄</th>\n",
       "      <th>性别</th>\n",
       "      <th>状态</th>\n",
       "      <th>下单次数</th>\n",
       "      <th>视力</th>\n",
       "      <th>年收入</th>\n",
       "      <th>年消费</th>\n",
       "      <th>近期购买产品</th>\n",
       "      <th>已注册月</th>\n",
       "    </tr>\n",
       "  </thead>\n",
       "  <tbody>\n",
       "    <tr>\n",
       "      <th>0</th>\n",
       "      <td>U004</td>\n",
       "      <td>19</td>\n",
       "      <td>女</td>\n",
       "      <td>单身</td>\n",
       "      <td>3</td>\n",
       "      <td>3</td>\n",
       "      <td>22973</td>\n",
       "      <td>85</td>\n",
       "      <td>贝尔防蓝光眼镜(高级黑)</td>\n",
       "      <td>2</td>\n",
       "    </tr>\n",
       "    <tr>\n",
       "      <th>1</th>\n",
       "      <td>U067</td>\n",
       "      <td>36</td>\n",
       "      <td>女</td>\n",
       "      <td>单身</td>\n",
       "      <td>4</td>\n",
       "      <td>3</td>\n",
       "      <td>34343</td>\n",
       "      <td>94</td>\n",
       "      <td>贝尔防蓝光眼镜(高级黑)</td>\n",
       "      <td>2</td>\n",
       "    </tr>\n",
       "    <tr>\n",
       "      <th>2</th>\n",
       "      <td>U147</td>\n",
       "      <td>24</td>\n",
       "      <td>女</td>\n",
       "      <td>单身</td>\n",
       "      <td>4</td>\n",
       "      <td>5</td>\n",
       "      <td>51006</td>\n",
       "      <td>100</td>\n",
       "      <td>9色钻石珠光眼影盘</td>\n",
       "      <td>6</td>\n",
       "    </tr>\n",
       "    <tr>\n",
       "      <th>3</th>\n",
       "      <td>U149</td>\n",
       "      <td>24</td>\n",
       "      <td>男</td>\n",
       "      <td>单身</td>\n",
       "      <td>5</td>\n",
       "      <td>5</td>\n",
       "      <td>62291</td>\n",
       "      <td>200</td>\n",
       "      <td>9色钻石珠光眼影盘</td>\n",
       "      <td>6</td>\n",
       "    </tr>\n",
       "    <tr>\n",
       "      <th>4</th>\n",
       "      <td>U087</td>\n",
       "      <td>21</td>\n",
       "      <td>女</td>\n",
       "      <td>有朋友</td>\n",
       "      <td>2</td>\n",
       "      <td>2</td>\n",
       "      <td>22973</td>\n",
       "      <td>53</td>\n",
       "      <td>敦乐视疲劳滴眼液(13ML)</td>\n",
       "      <td>2</td>\n",
       "    </tr>\n",
       "  </tbody>\n",
       "</table>\n",
       "</div>"
      ],
      "text/plain": [
       "   用户编号  年龄 性别   状态  下单次数  视力    年收入  年消费          近期购买产品  已注册月\n",
       "0  U004  19  女   单身     3   3  22973   85    贝尔防蓝光眼镜(高级黑)     2\n",
       "1  U067  36  女   单身     4   3  34343   94    贝尔防蓝光眼镜(高级黑)     2\n",
       "2  U147  24  女   单身     4   5  51006  100       9色钻石珠光眼影盘     6\n",
       "3  U149  24  男   单身     5   5  62291  200       9色钻石珠光眼影盘     6\n",
       "4  U087  21  女  有朋友     2   2  22973   53  敦乐视疲劳滴眼液(13ML)     2"
      ]
     },
     "execution_count": 106,
     "metadata": {},
     "output_type": "execute_result"
    }
   ],
   "source": [
    "df_user = pd.read_csv('爆款产品.csv')\n",
    "df_user.head()"
   ]
  },
  {
   "cell_type": "code",
   "execution_count": 107,
   "id": "6903fa55-9c8d-4132-bdab-ec9c1c2760c6",
   "metadata": {},
   "outputs": [
    {
     "data": {
      "text/plain": [
       "(180, 10)"
      ]
     },
     "execution_count": 107,
     "metadata": {},
     "output_type": "execute_result"
    }
   ],
   "source": [
    "df_user.shape"
   ]
  },
  {
   "cell_type": "code",
   "execution_count": 108,
   "id": "e11b9a4b-ede3-4157-8385-7cacbbaaad0d",
   "metadata": {},
   "outputs": [
    {
     "data": {
      "text/plain": [
       "RangeIndex(start=0, stop=180, step=1)"
      ]
     },
     "execution_count": 108,
     "metadata": {},
     "output_type": "execute_result"
    }
   ],
   "source": [
    "df_user.index"
   ]
  },
  {
   "cell_type": "code",
   "execution_count": 109,
   "id": "2b396a0f-ac9c-433c-abee-97ae2137bea8",
   "metadata": {},
   "outputs": [
    {
     "data": {
      "text/plain": [
       "Index(['用户编号', '年龄', '性别', '状态', '下单次数', '视力', '年收入', '年消费', '近期购买产品', '已注册月'], dtype='object')"
      ]
     },
     "execution_count": 109,
     "metadata": {},
     "output_type": "execute_result"
    }
   ],
   "source": [
    "df_user.columns"
   ]
  },
  {
   "cell_type": "code",
   "execution_count": 110,
   "id": "81389bff-c25b-4007-9a8a-06c95b2c1819",
   "metadata": {},
   "outputs": [
    {
     "data": {
      "text/html": [
       "<div>\n",
       "<style scoped>\n",
       "    .dataframe tbody tr th:only-of-type {\n",
       "        vertical-align: middle;\n",
       "    }\n",
       "\n",
       "    .dataframe tbody tr th {\n",
       "        vertical-align: top;\n",
       "    }\n",
       "\n",
       "    .dataframe thead th {\n",
       "        text-align: right;\n",
       "    }\n",
       "</style>\n",
       "<table border=\"1\" class=\"dataframe\">\n",
       "  <thead>\n",
       "    <tr style=\"text-align: right;\">\n",
       "      <th></th>\n",
       "      <th>年龄</th>\n",
       "      <th>下单次数</th>\n",
       "      <th>视力</th>\n",
       "      <th>年收入</th>\n",
       "      <th>年消费</th>\n",
       "      <th>已注册月</th>\n",
       "    </tr>\n",
       "  </thead>\n",
       "  <tbody>\n",
       "    <tr>\n",
       "      <th>count</th>\n",
       "      <td>180.000000</td>\n",
       "      <td>180.000000</td>\n",
       "      <td>180.000000</td>\n",
       "      <td>180.000000</td>\n",
       "      <td>180.000000</td>\n",
       "      <td>180.000000</td>\n",
       "    </tr>\n",
       "    <tr>\n",
       "      <th>mean</th>\n",
       "      <td>28.788889</td>\n",
       "      <td>3.455556</td>\n",
       "      <td>3.311111</td>\n",
       "      <td>53688.233333</td>\n",
       "      <td>103.194444</td>\n",
       "      <td>5.572222</td>\n",
       "    </tr>\n",
       "    <tr>\n",
       "      <th>std</th>\n",
       "      <td>6.943498</td>\n",
       "      <td>1.084797</td>\n",
       "      <td>0.958869</td>\n",
       "      <td>18965.900065</td>\n",
       "      <td>51.863605</td>\n",
       "      <td>1.617055</td>\n",
       "    </tr>\n",
       "    <tr>\n",
       "      <th>min</th>\n",
       "      <td>18.000000</td>\n",
       "      <td>2.000000</td>\n",
       "      <td>1.000000</td>\n",
       "      <td>19562.000000</td>\n",
       "      <td>21.000000</td>\n",
       "      <td>2.000000</td>\n",
       "    </tr>\n",
       "    <tr>\n",
       "      <th>25%</th>\n",
       "      <td>24.000000</td>\n",
       "      <td>3.000000</td>\n",
       "      <td>3.000000</td>\n",
       "      <td>41048.500000</td>\n",
       "      <td>66.000000</td>\n",
       "      <td>4.000000</td>\n",
       "    </tr>\n",
       "    <tr>\n",
       "      <th>50%</th>\n",
       "      <td>26.000000</td>\n",
       "      <td>3.000000</td>\n",
       "      <td>3.000000</td>\n",
       "      <td>50969.000000</td>\n",
       "      <td>94.000000</td>\n",
       "      <td>6.000000</td>\n",
       "    </tr>\n",
       "    <tr>\n",
       "      <th>75%</th>\n",
       "      <td>33.000000</td>\n",
       "      <td>4.000000</td>\n",
       "      <td>4.000000</td>\n",
       "      <td>64576.000000</td>\n",
       "      <td>114.750000</td>\n",
       "      <td>6.000000</td>\n",
       "    </tr>\n",
       "    <tr>\n",
       "      <th>max</th>\n",
       "      <td>50.000000</td>\n",
       "      <td>7.000000</td>\n",
       "      <td>5.000000</td>\n",
       "      <td>106384.000000</td>\n",
       "      <td>360.000000</td>\n",
       "      <td>11.000000</td>\n",
       "    </tr>\n",
       "  </tbody>\n",
       "</table>\n",
       "</div>"
      ],
      "text/plain": [
       "               年龄        下单次数          视力            年收入         年消费  \\\n",
       "count  180.000000  180.000000  180.000000     180.000000  180.000000   \n",
       "mean    28.788889    3.455556    3.311111   53688.233333  103.194444   \n",
       "std      6.943498    1.084797    0.958869   18965.900065   51.863605   \n",
       "min     18.000000    2.000000    1.000000   19562.000000   21.000000   \n",
       "25%     24.000000    3.000000    3.000000   41048.500000   66.000000   \n",
       "50%     26.000000    3.000000    3.000000   50969.000000   94.000000   \n",
       "75%     33.000000    4.000000    4.000000   64576.000000  114.750000   \n",
       "max     50.000000    7.000000    5.000000  106384.000000  360.000000   \n",
       "\n",
       "             已注册月  \n",
       "count  180.000000  \n",
       "mean     5.572222  \n",
       "std      1.617055  \n",
       "min      2.000000  \n",
       "25%      4.000000  \n",
       "50%      6.000000  \n",
       "75%      6.000000  \n",
       "max     11.000000  "
      ]
     },
     "execution_count": 110,
     "metadata": {},
     "output_type": "execute_result"
    }
   ],
   "source": [
    "df_user.describe()"
   ]
  },
  {
   "cell_type": "code",
   "execution_count": 112,
   "id": "e103d107-9abe-4499-9b88-a2069c852e5c",
   "metadata": {},
   "outputs": [
    {
     "data": {
      "text/plain": [
       "用户编号\n",
       "U004    1\n",
       "U094    1\n",
       "U100    1\n",
       "U106    1\n",
       "U109    1\n",
       "       ..\n",
       "U114    1\n",
       "U129    1\n",
       "U141    1\n",
       "U167    1\n",
       "U176    1\n",
       "Name: count, Length: 180, dtype: int64"
      ]
     },
     "execution_count": 112,
     "metadata": {},
     "output_type": "execute_result"
    }
   ],
   "source": [
    "df_user['用户编号'].value_counts()"
   ]
  },
  {
   "cell_type": "code",
   "execution_count": 113,
   "id": "593c82e2-974b-4174-8f43-2b057b27f696",
   "metadata": {},
   "outputs": [
    {
     "data": {
      "text/plain": [
       "下单次数\n",
       "3    69\n",
       "4    52\n",
       "2    33\n",
       "5    17\n",
       "6     7\n",
       "7     2\n",
       "Name: count, dtype: int64"
      ]
     },
     "execution_count": 113,
     "metadata": {},
     "output_type": "execute_result"
    }
   ],
   "source": [
    "df_user['下单次数'].value_counts()"
   ]
  },
  {
   "cell_type": "code",
   "execution_count": 114,
   "id": "866f32ec-6b1d-44ac-995b-1a1952cc9c87",
   "metadata": {},
   "outputs": [
    {
     "data": {
      "text/plain": [
       "53688.23333333333"
      ]
     },
     "execution_count": 114,
     "metadata": {},
     "output_type": "execute_result"
    }
   ],
   "source": [
    "df_user['年收入'].mean()"
   ]
  },
  {
   "cell_type": "code",
   "execution_count": 119,
   "id": "46b0a980-0939-45ad-bde8-98d5d670bebc",
   "metadata": {},
   "outputs": [
    {
     "data": {
      "text/html": [
       "<div>\n",
       "<style scoped>\n",
       "    .dataframe tbody tr th:only-of-type {\n",
       "        vertical-align: middle;\n",
       "    }\n",
       "\n",
       "    .dataframe tbody tr th {\n",
       "        vertical-align: top;\n",
       "    }\n",
       "\n",
       "    .dataframe thead th {\n",
       "        text-align: right;\n",
       "    }\n",
       "</style>\n",
       "<table border=\"1\" class=\"dataframe\">\n",
       "  <thead>\n",
       "    <tr style=\"text-align: right;\">\n",
       "      <th></th>\n",
       "      <th>用户编号</th>\n",
       "      <th>年龄</th>\n",
       "      <th>性别</th>\n",
       "      <th>状态</th>\n",
       "      <th>下单次数</th>\n",
       "      <th>视力</th>\n",
       "      <th>年收入</th>\n",
       "      <th>年消费</th>\n",
       "      <th>近期购买产品</th>\n",
       "      <th>已注册月</th>\n",
       "    </tr>\n",
       "  </thead>\n",
       "  <tbody>\n",
       "    <tr>\n",
       "      <th>108</th>\n",
       "      <td>U080</td>\n",
       "      <td>50</td>\n",
       "      <td>男</td>\n",
       "      <td>有朋友</td>\n",
       "      <td>3</td>\n",
       "      <td>3</td>\n",
       "      <td>74809</td>\n",
       "      <td>66</td>\n",
       "      <td>贝尔防蓝光眼镜(高级黑)</td>\n",
       "      <td>6</td>\n",
       "    </tr>\n",
       "    <tr>\n",
       "      <th>139</th>\n",
       "      <td>U140</td>\n",
       "      <td>48</td>\n",
       "      <td>女</td>\n",
       "      <td>有朋友</td>\n",
       "      <td>2</td>\n",
       "      <td>3</td>\n",
       "      <td>47987</td>\n",
       "      <td>64</td>\n",
       "      <td>敦乐视疲劳滴眼液(13ML)</td>\n",
       "      <td>6</td>\n",
       "    </tr>\n",
       "    <tr>\n",
       "      <th>175</th>\n",
       "      <td>U180</td>\n",
       "      <td>48</td>\n",
       "      <td>女</td>\n",
       "      <td>单身</td>\n",
       "      <td>4</td>\n",
       "      <td>5</td>\n",
       "      <td>85508</td>\n",
       "      <td>180</td>\n",
       "      <td>9色钻石珠光眼影盘</td>\n",
       "      <td>8</td>\n",
       "    </tr>\n",
       "    <tr>\n",
       "      <th>174</th>\n",
       "      <td>U179</td>\n",
       "      <td>47</td>\n",
       "      <td>女</td>\n",
       "      <td>有朋友</td>\n",
       "      <td>4</td>\n",
       "      <td>5</td>\n",
       "      <td>94581</td>\n",
       "      <td>120</td>\n",
       "      <td>9色钻石珠光眼影盘</td>\n",
       "      <td>8</td>\n",
       "    </tr>\n",
       "    <tr>\n",
       "      <th>107</th>\n",
       "      <td>U079</td>\n",
       "      <td>47</td>\n",
       "      <td>女</td>\n",
       "      <td>有朋友</td>\n",
       "      <td>4</td>\n",
       "      <td>3</td>\n",
       "      <td>46850</td>\n",
       "      <td>94</td>\n",
       "      <td>贝尔防蓝光眼镜(高级黑)</td>\n",
       "      <td>6</td>\n",
       "    </tr>\n",
       "  </tbody>\n",
       "</table>\n",
       "</div>"
      ],
      "text/plain": [
       "     用户编号  年龄 性别   状态  下单次数  视力    年收入  年消费          近期购买产品  已注册月\n",
       "108  U080  50  男  有朋友     3   3  74809   66    贝尔防蓝光眼镜(高级黑)     6\n",
       "139  U140  48  女  有朋友     2   3  47987   64  敦乐视疲劳滴眼液(13ML)     6\n",
       "175  U180  48  女   单身     4   5  85508  180       9色钻石珠光眼影盘     8\n",
       "174  U179  47  女  有朋友     4   5  94581  120       9色钻石珠光眼影盘     8\n",
       "107  U079  47  女  有朋友     4   3  46850   94    贝尔防蓝光眼镜(高级黑)     6"
      ]
     },
     "execution_count": 119,
     "metadata": {},
     "output_type": "execute_result"
    }
   ],
   "source": [
    "df_user.sort_values(by='年龄',ascending=False).head()"
   ]
  },
  {
   "cell_type": "code",
   "execution_count": 120,
   "id": "1500ee85-79cf-4a06-8c28-7a6bff9ef440",
   "metadata": {},
   "outputs": [
    {
     "data": {
      "text/html": [
       "<div>\n",
       "<style scoped>\n",
       "    .dataframe tbody tr th:only-of-type {\n",
       "        vertical-align: middle;\n",
       "    }\n",
       "\n",
       "    .dataframe tbody tr th {\n",
       "        vertical-align: top;\n",
       "    }\n",
       "\n",
       "    .dataframe thead th {\n",
       "        text-align: right;\n",
       "    }\n",
       "</style>\n",
       "<table border=\"1\" class=\"dataframe\">\n",
       "  <thead>\n",
       "    <tr style=\"text-align: right;\">\n",
       "      <th></th>\n",
       "      <th>用户编号</th>\n",
       "      <th>年龄</th>\n",
       "      <th>性别</th>\n",
       "      <th>状态</th>\n",
       "      <th>下单次数</th>\n",
       "      <th>视力</th>\n",
       "      <th>年收入</th>\n",
       "      <th>年消费</th>\n",
       "      <th>近期购买产品</th>\n",
       "      <th>已注册月</th>\n",
       "    </tr>\n",
       "  </thead>\n",
       "  <tbody>\n",
       "    <tr>\n",
       "      <th>70</th>\n",
       "      <td>U013</td>\n",
       "      <td>22</td>\n",
       "      <td>男</td>\n",
       "      <td>单身</td>\n",
       "      <td>4</td>\n",
       "      <td>3</td>\n",
       "      <td>106384</td>\n",
       "      <td>75</td>\n",
       "      <td>贝尔防蓝光眼镜(高级黑)</td>\n",
       "      <td>6</td>\n",
       "    </tr>\n",
       "    <tr>\n",
       "      <th>171</th>\n",
       "      <td>U172</td>\n",
       "      <td>33</td>\n",
       "      <td>男</td>\n",
       "      <td>有朋友</td>\n",
       "      <td>4</td>\n",
       "      <td>5</td>\n",
       "      <td>105866</td>\n",
       "      <td>200</td>\n",
       "      <td>9色钻石珠光眼影盘</td>\n",
       "      <td>8</td>\n",
       "    </tr>\n",
       "    <tr>\n",
       "      <th>165</th>\n",
       "      <td>U163</td>\n",
       "      <td>28</td>\n",
       "      <td>男</td>\n",
       "      <td>有朋友</td>\n",
       "      <td>6</td>\n",
       "      <td>5</td>\n",
       "      <td>102131</td>\n",
       "      <td>180</td>\n",
       "      <td>9色钻石珠光眼影盘</td>\n",
       "      <td>8</td>\n",
       "    </tr>\n",
       "    <tr>\n",
       "      <th>23</th>\n",
       "      <td>U031</td>\n",
       "      <td>25</td>\n",
       "      <td>男</td>\n",
       "      <td>有朋友</td>\n",
       "      <td>3</td>\n",
       "      <td>3</td>\n",
       "      <td>99795</td>\n",
       "      <td>85</td>\n",
       "      <td>贝尔防蓝光眼镜(高级黑)</td>\n",
       "      <td>4</td>\n",
       "    </tr>\n",
       "    <tr>\n",
       "      <th>85</th>\n",
       "      <td>U039</td>\n",
       "      <td>26</td>\n",
       "      <td>男</td>\n",
       "      <td>单身</td>\n",
       "      <td>3</td>\n",
       "      <td>3</td>\n",
       "      <td>96384</td>\n",
       "      <td>66</td>\n",
       "      <td>贝尔防蓝光眼镜(高级黑)</td>\n",
       "      <td>6</td>\n",
       "    </tr>\n",
       "  </tbody>\n",
       "</table>\n",
       "</div>"
      ],
      "text/plain": [
       "     用户编号  年龄 性别   状态  下单次数  视力     年收入  年消费        近期购买产品  已注册月\n",
       "70   U013  22  男   单身     4   3  106384   75  贝尔防蓝光眼镜(高级黑)     6\n",
       "171  U172  33  男  有朋友     4   5  105866  200     9色钻石珠光眼影盘     8\n",
       "165  U163  28  男  有朋友     6   5  102131  180     9色钻石珠光眼影盘     8\n",
       "23   U031  25  男  有朋友     3   3   99795   85  贝尔防蓝光眼镜(高级黑)     4\n",
       "85   U039  26  男   单身     3   3   96384   66  贝尔防蓝光眼镜(高级黑)     6"
      ]
     },
     "execution_count": 120,
     "metadata": {},
     "output_type": "execute_result"
    }
   ],
   "source": [
    "df_user.sort_values(by='年收入',ascending=False).head()"
   ]
  },
  {
   "cell_type": "code",
   "execution_count": 121,
   "id": "809d2b39-fa21-49f0-92f7-f251a73717f8",
   "metadata": {},
   "outputs": [
    {
     "data": {
      "text/html": [
       "<div>\n",
       "<style scoped>\n",
       "    .dataframe tbody tr th:only-of-type {\n",
       "        vertical-align: middle;\n",
       "    }\n",
       "\n",
       "    .dataframe tbody tr th {\n",
       "        vertical-align: top;\n",
       "    }\n",
       "\n",
       "    .dataframe thead th {\n",
       "        text-align: right;\n",
       "    }\n",
       "</style>\n",
       "<table border=\"1\" class=\"dataframe\">\n",
       "  <thead>\n",
       "    <tr style=\"text-align: right;\">\n",
       "      <th></th>\n",
       "      <th>用户编号</th>\n",
       "      <th>年龄</th>\n",
       "      <th>性别</th>\n",
       "      <th>状态</th>\n",
       "      <th>下单次数</th>\n",
       "      <th>视力</th>\n",
       "      <th>年收入</th>\n",
       "      <th>年消费</th>\n",
       "      <th>近期购买产品</th>\n",
       "      <th>已注册月</th>\n",
       "    </tr>\n",
       "  </thead>\n",
       "  <tbody>\n",
       "    <tr>\n",
       "      <th>151</th>\n",
       "      <td>U174</td>\n",
       "      <td>35</td>\n",
       "      <td>女</td>\n",
       "      <td>有朋友</td>\n",
       "      <td>4</td>\n",
       "      <td>5</td>\n",
       "      <td>82131</td>\n",
       "      <td>360</td>\n",
       "      <td>9色钻石珠光眼影盘</td>\n",
       "      <td>6</td>\n",
       "    </tr>\n",
       "    <tr>\n",
       "      <th>64</th>\n",
       "      <td>U167</td>\n",
       "      <td>29</td>\n",
       "      <td>女</td>\n",
       "      <td>有朋友</td>\n",
       "      <td>7</td>\n",
       "      <td>5</td>\n",
       "      <td>75906</td>\n",
       "      <td>300</td>\n",
       "      <td>9色钻石珠光眼影盘</td>\n",
       "      <td>4</td>\n",
       "    </tr>\n",
       "    <tr>\n",
       "      <th>148</th>\n",
       "      <td>U168</td>\n",
       "      <td>30</td>\n",
       "      <td>男</td>\n",
       "      <td>有朋友</td>\n",
       "      <td>6</td>\n",
       "      <td>5</td>\n",
       "      <td>80560</td>\n",
       "      <td>280</td>\n",
       "      <td>9色钻石珠光眼影盘</td>\n",
       "      <td>6</td>\n",
       "    </tr>\n",
       "    <tr>\n",
       "      <th>149</th>\n",
       "      <td>U171</td>\n",
       "      <td>31</td>\n",
       "      <td>女</td>\n",
       "      <td>有朋友</td>\n",
       "      <td>6</td>\n",
       "      <td>5</td>\n",
       "      <td>79641</td>\n",
       "      <td>260</td>\n",
       "      <td>9色钻石珠光眼影盘</td>\n",
       "      <td>6</td>\n",
       "    </tr>\n",
       "    <tr>\n",
       "      <th>163</th>\n",
       "      <td>U156</td>\n",
       "      <td>25</td>\n",
       "      <td>女</td>\n",
       "      <td>有朋友</td>\n",
       "      <td>6</td>\n",
       "      <td>5</td>\n",
       "      <td>65946</td>\n",
       "      <td>240</td>\n",
       "      <td>9色钻石珠光眼影盘</td>\n",
       "      <td>8</td>\n",
       "    </tr>\n",
       "  </tbody>\n",
       "</table>\n",
       "</div>"
      ],
      "text/plain": [
       "     用户编号  年龄 性别   状态  下单次数  视力    年收入  年消费     近期购买产品  已注册月\n",
       "151  U174  35  女  有朋友     4   5  82131  360  9色钻石珠光眼影盘     6\n",
       "64   U167  29  女  有朋友     7   5  75906  300  9色钻石珠光眼影盘     4\n",
       "148  U168  30  男  有朋友     6   5  80560  280  9色钻石珠光眼影盘     6\n",
       "149  U171  31  女  有朋友     6   5  79641  260  9色钻石珠光眼影盘     6\n",
       "163  U156  25  女  有朋友     6   5  65946  240  9色钻石珠光眼影盘     8"
      ]
     },
     "execution_count": 121,
     "metadata": {},
     "output_type": "execute_result"
    }
   ],
   "source": [
    "df_user.sort_values(by='年消费',ascending=False).head()"
   ]
  },
  {
   "cell_type": "code",
   "execution_count": 122,
   "id": "aa4fef89-683a-4878-9b05-dfab972a3aaa",
   "metadata": {},
   "outputs": [
    {
     "data": {
      "text/html": [
       "<div>\n",
       "<style scoped>\n",
       "    .dataframe tbody tr th:only-of-type {\n",
       "        vertical-align: middle;\n",
       "    }\n",
       "\n",
       "    .dataframe tbody tr th {\n",
       "        vertical-align: top;\n",
       "    }\n",
       "\n",
       "    .dataframe thead th {\n",
       "        text-align: right;\n",
       "    }\n",
       "</style>\n",
       "<table border=\"1\" class=\"dataframe\">\n",
       "  <thead>\n",
       "    <tr style=\"text-align: right;\">\n",
       "      <th></th>\n",
       "      <th>用户编号</th>\n",
       "      <th>年龄</th>\n",
       "      <th>性别</th>\n",
       "      <th>状态</th>\n",
       "      <th>下单次数</th>\n",
       "      <th>视力</th>\n",
       "      <th>年收入</th>\n",
       "      <th>年消费</th>\n",
       "      <th>近期购买产品</th>\n",
       "      <th>已注册月</th>\n",
       "    </tr>\n",
       "  </thead>\n",
       "  <tbody>\n",
       "    <tr>\n",
       "      <th>108</th>\n",
       "      <td>U080</td>\n",
       "      <td>50</td>\n",
       "      <td>男</td>\n",
       "      <td>有朋友</td>\n",
       "      <td>3</td>\n",
       "      <td>3</td>\n",
       "      <td>74809</td>\n",
       "      <td>66</td>\n",
       "      <td>贝尔防蓝光眼镜(高级黑)</td>\n",
       "      <td>6</td>\n",
       "    </tr>\n",
       "  </tbody>\n",
       "</table>\n",
       "</div>"
      ],
      "text/plain": [
       "     用户编号  年龄 性别   状态  下单次数  视力    年收入  年消费        近期购买产品  已注册月\n",
       "108  U080  50  男  有朋友     3   3  74809   66  贝尔防蓝光眼镜(高级黑)     6"
      ]
     },
     "execution_count": 122,
     "metadata": {},
     "output_type": "execute_result"
    }
   ],
   "source": [
    "df_user[df_user['用户编号']=='U080']"
   ]
  },
  {
   "cell_type": "code",
   "execution_count": 125,
   "id": "4b6c3fb3-f75b-4da6-b14f-6c9019f01a45",
   "metadata": {},
   "outputs": [
    {
     "data": {
      "text/plain": [
       "46562.75961538462"
      ]
     },
     "execution_count": 125,
     "metadata": {},
     "output_type": "execute_result"
    }
   ],
   "source": [
    "df_user[df_user['性别']=='女'].年收入.mean()"
   ]
  },
  {
   "cell_type": "code",
   "execution_count": 126,
   "id": "ff9f5d86-b35a-4be0-b1d6-1b761a7f4706",
   "metadata": {},
   "outputs": [
    {
     "data": {
      "text/plain": [
       "46562.75961538462"
      ]
     },
     "execution_count": 126,
     "metadata": {},
     "output_type": "execute_result"
    }
   ],
   "source": [
    "df_user[df_user['性别']=='女']['年收入'].mean()"
   ]
  },
  {
   "cell_type": "code",
   "execution_count": 133,
   "id": "fd4ae9f1-2e3a-4cbd-9934-4a3fca988141",
   "metadata": {},
   "outputs": [
    {
     "data": {
      "text/plain": [
       "360"
      ]
     },
     "execution_count": 133,
     "metadata": {},
     "output_type": "execute_result"
    }
   ],
   "source": [
    "#df_user[(df_user['性别']=='女') & (df_user['年收入']>30000)]['年消费'].max()\n",
    "df_user[(df_user['性别']=='女') & (df_user['年收入']>30000)].年消费.max()"
   ]
  },
  {
   "cell_type": "code",
   "execution_count": 137,
   "id": "bf985a32-3929-4cef-a784-2a479befeb02",
   "metadata": {},
   "outputs": [
    {
     "data": {
      "text/html": [
       "<div>\n",
       "<style scoped>\n",
       "    .dataframe tbody tr th:only-of-type {\n",
       "        vertical-align: middle;\n",
       "    }\n",
       "\n",
       "    .dataframe tbody tr th {\n",
       "        vertical-align: top;\n",
       "    }\n",
       "\n",
       "    .dataframe thead th {\n",
       "        text-align: right;\n",
       "    }\n",
       "</style>\n",
       "<table border=\"1\" class=\"dataframe\">\n",
       "  <thead>\n",
       "    <tr style=\"text-align: right;\">\n",
       "      <th></th>\n",
       "      <th>用户编号</th>\n",
       "      <th>年龄</th>\n",
       "      <th>性别</th>\n",
       "      <th>状态</th>\n",
       "      <th>下单次数</th>\n",
       "      <th>视力</th>\n",
       "      <th>年收入</th>\n",
       "      <th>年消费</th>\n",
       "      <th>近期购买产品</th>\n",
       "      <th>已注册月</th>\n",
       "    </tr>\n",
       "  </thead>\n",
       "  <tbody>\n",
       "    <tr>\n",
       "      <th>0</th>\n",
       "      <td>U004</td>\n",
       "      <td>19</td>\n",
       "      <td>女</td>\n",
       "      <td>单身</td>\n",
       "      <td>3</td>\n",
       "      <td>3</td>\n",
       "      <td>22973</td>\n",
       "      <td>85</td>\n",
       "      <td>贝尔防蓝光眼镜(高级黑)</td>\n",
       "      <td>2</td>\n",
       "    </tr>\n",
       "    <tr>\n",
       "      <th>1</th>\n",
       "      <td>U067</td>\n",
       "      <td>36</td>\n",
       "      <td>女</td>\n",
       "      <td>单身</td>\n",
       "      <td>4</td>\n",
       "      <td>3</td>\n",
       "      <td>34343</td>\n",
       "      <td>94</td>\n",
       "      <td>贝尔防蓝光眼镜(高级黑)</td>\n",
       "      <td>2</td>\n",
       "    </tr>\n",
       "    <tr>\n",
       "      <th>2</th>\n",
       "      <td>U147</td>\n",
       "      <td>24</td>\n",
       "      <td>女</td>\n",
       "      <td>单身</td>\n",
       "      <td>4</td>\n",
       "      <td>5</td>\n",
       "      <td>51006</td>\n",
       "      <td>100</td>\n",
       "      <td>9色钻石珠光眼影盘</td>\n",
       "      <td>6</td>\n",
       "    </tr>\n",
       "  </tbody>\n",
       "</table>\n",
       "</div>"
      ],
      "text/plain": [
       "   用户编号  年龄 性别  状态  下单次数  视力    年收入  年消费        近期购买产品  已注册月\n",
       "0  U004  19  女  单身     3   3  22973   85  贝尔防蓝光眼镜(高级黑)     2\n",
       "1  U067  36  女  单身     4   3  34343   94  贝尔防蓝光眼镜(高级黑)     2\n",
       "2  U147  24  女  单身     4   5  51006  100     9色钻石珠光眼影盘     6"
      ]
     },
     "execution_count": 137,
     "metadata": {},
     "output_type": "execute_result"
    }
   ],
   "source": [
    "df_user.iloc[[0,1,2]] 行索引"
   ]
  },
  {
   "cell_type": "code",
   "execution_count": 138,
   "id": "3289d63b-23fb-465c-9920-f28b4f5d97c6",
   "metadata": {},
   "outputs": [
    {
     "data": {
      "text/html": [
       "<div>\n",
       "<style scoped>\n",
       "    .dataframe tbody tr th:only-of-type {\n",
       "        vertical-align: middle;\n",
       "    }\n",
       "\n",
       "    .dataframe tbody tr th {\n",
       "        vertical-align: top;\n",
       "    }\n",
       "\n",
       "    .dataframe thead th {\n",
       "        text-align: right;\n",
       "    }\n",
       "</style>\n",
       "<table border=\"1\" class=\"dataframe\">\n",
       "  <thead>\n",
       "    <tr style=\"text-align: right;\">\n",
       "      <th></th>\n",
       "      <th>用户编号</th>\n",
       "      <th>年龄</th>\n",
       "      <th>性别</th>\n",
       "      <th>状态</th>\n",
       "      <th>下单次数</th>\n",
       "      <th>视力</th>\n",
       "      <th>年收入</th>\n",
       "      <th>年消费</th>\n",
       "      <th>近期购买产品</th>\n",
       "      <th>已注册月</th>\n",
       "    </tr>\n",
       "  </thead>\n",
       "  <tbody>\n",
       "    <tr>\n",
       "      <th>0</th>\n",
       "      <td>U004</td>\n",
       "      <td>19</td>\n",
       "      <td>女</td>\n",
       "      <td>单身</td>\n",
       "      <td>3</td>\n",
       "      <td>3</td>\n",
       "      <td>22973</td>\n",
       "      <td>85</td>\n",
       "      <td>贝尔防蓝光眼镜(高级黑)</td>\n",
       "      <td>2</td>\n",
       "    </tr>\n",
       "    <tr>\n",
       "      <th>1</th>\n",
       "      <td>U067</td>\n",
       "      <td>36</td>\n",
       "      <td>女</td>\n",
       "      <td>单身</td>\n",
       "      <td>4</td>\n",
       "      <td>3</td>\n",
       "      <td>34343</td>\n",
       "      <td>94</td>\n",
       "      <td>贝尔防蓝光眼镜(高级黑)</td>\n",
       "      <td>2</td>\n",
       "    </tr>\n",
       "    <tr>\n",
       "      <th>2</th>\n",
       "      <td>U147</td>\n",
       "      <td>24</td>\n",
       "      <td>女</td>\n",
       "      <td>单身</td>\n",
       "      <td>4</td>\n",
       "      <td>5</td>\n",
       "      <td>51006</td>\n",
       "      <td>100</td>\n",
       "      <td>9色钻石珠光眼影盘</td>\n",
       "      <td>6</td>\n",
       "    </tr>\n",
       "  </tbody>\n",
       "</table>\n",
       "</div>"
      ],
      "text/plain": [
       "   用户编号  年龄 性别  状态  下单次数  视力    年收入  年消费        近期购买产品  已注册月\n",
       "0  U004  19  女  单身     3   3  22973   85  贝尔防蓝光眼镜(高级黑)     2\n",
       "1  U067  36  女  单身     4   3  34343   94  贝尔防蓝光眼镜(高级黑)     2\n",
       "2  U147  24  女  单身     4   5  51006  100     9色钻石珠光眼影盘     6"
      ]
     },
     "execution_count": 138,
     "metadata": {},
     "output_type": "execute_result"
    }
   ],
   "source": [
    "df_user.loc[[0,1,2]] #行名"
   ]
  },
  {
   "cell_type": "code",
   "execution_count": 140,
   "id": "e0058088-ee3d-49f1-9cfc-1787c5d7930c",
   "metadata": {},
   "outputs": [
    {
     "data": {
      "text/html": [
       "<div>\n",
       "<style scoped>\n",
       "    .dataframe tbody tr th:only-of-type {\n",
       "        vertical-align: middle;\n",
       "    }\n",
       "\n",
       "    .dataframe tbody tr th {\n",
       "        vertical-align: top;\n",
       "    }\n",
       "\n",
       "    .dataframe thead th {\n",
       "        text-align: right;\n",
       "    }\n",
       "</style>\n",
       "<table border=\"1\" class=\"dataframe\">\n",
       "  <thead>\n",
       "    <tr style=\"text-align: right;\">\n",
       "      <th></th>\n",
       "      <th>用户编号</th>\n",
       "      <th>年龄</th>\n",
       "      <th>性别</th>\n",
       "      <th>状态</th>\n",
       "      <th>下单次数</th>\n",
       "      <th>视力</th>\n",
       "      <th>年收入</th>\n",
       "      <th>年消费</th>\n",
       "      <th>近期购买产品</th>\n",
       "      <th>已注册月</th>\n",
       "    </tr>\n",
       "  </thead>\n",
       "  <tbody>\n",
       "    <tr>\n",
       "      <th>3</th>\n",
       "      <td>U149</td>\n",
       "      <td>24</td>\n",
       "      <td>男</td>\n",
       "      <td>单身</td>\n",
       "      <td>5</td>\n",
       "      <td>5</td>\n",
       "      <td>62291</td>\n",
       "      <td>200</td>\n",
       "      <td>9色钻石珠光眼影盘</td>\n",
       "      <td>6</td>\n",
       "    </tr>\n",
       "    <tr>\n",
       "      <th>4</th>\n",
       "      <td>U087</td>\n",
       "      <td>21</td>\n",
       "      <td>女</td>\n",
       "      <td>有朋友</td>\n",
       "      <td>2</td>\n",
       "      <td>2</td>\n",
       "      <td>22973</td>\n",
       "      <td>53</td>\n",
       "      <td>敦乐视疲劳滴眼液(13ML)</td>\n",
       "      <td>2</td>\n",
       "    </tr>\n",
       "    <tr>\n",
       "      <th>5</th>\n",
       "      <td>U005</td>\n",
       "      <td>20</td>\n",
       "      <td>女</td>\n",
       "      <td>有朋友</td>\n",
       "      <td>4</td>\n",
       "      <td>2</td>\n",
       "      <td>25247</td>\n",
       "      <td>47</td>\n",
       "      <td>贝尔防蓝光眼镜(高级黑)</td>\n",
       "      <td>3</td>\n",
       "    </tr>\n",
       "  </tbody>\n",
       "</table>\n",
       "</div>"
      ],
      "text/plain": [
       "   用户编号  年龄 性别   状态  下单次数  视力    年收入  年消费          近期购买产品  已注册月\n",
       "3  U149  24  男   单身     5   5  62291  200       9色钻石珠光眼影盘     6\n",
       "4  U087  21  女  有朋友     2   2  22973   53  敦乐视疲劳滴眼液(13ML)     2\n",
       "5  U005  20  女  有朋友     4   2  25247   47    贝尔防蓝光眼镜(高级黑)     3"
      ]
     },
     "execution_count": 140,
     "metadata": {},
     "output_type": "execute_result"
    }
   ],
   "source": [
    "df_user.loc[3:5] #行名 3-4-5"
   ]
  },
  {
   "cell_type": "code",
   "execution_count": 141,
   "id": "4423d444-6cca-421f-8b97-8915d100604a",
   "metadata": {},
   "outputs": [
    {
     "data": {
      "text/html": [
       "<div>\n",
       "<style scoped>\n",
       "    .dataframe tbody tr th:only-of-type {\n",
       "        vertical-align: middle;\n",
       "    }\n",
       "\n",
       "    .dataframe tbody tr th {\n",
       "        vertical-align: top;\n",
       "    }\n",
       "\n",
       "    .dataframe thead th {\n",
       "        text-align: right;\n",
       "    }\n",
       "</style>\n",
       "<table border=\"1\" class=\"dataframe\">\n",
       "  <thead>\n",
       "    <tr style=\"text-align: right;\">\n",
       "      <th></th>\n",
       "      <th>用户编号</th>\n",
       "      <th>年龄</th>\n",
       "      <th>性别</th>\n",
       "      <th>状态</th>\n",
       "      <th>下单次数</th>\n",
       "      <th>视力</th>\n",
       "      <th>年收入</th>\n",
       "      <th>年消费</th>\n",
       "      <th>近期购买产品</th>\n",
       "      <th>已注册月</th>\n",
       "    </tr>\n",
       "  </thead>\n",
       "  <tbody>\n",
       "    <tr>\n",
       "      <th>3</th>\n",
       "      <td>U149</td>\n",
       "      <td>24</td>\n",
       "      <td>男</td>\n",
       "      <td>单身</td>\n",
       "      <td>5</td>\n",
       "      <td>5</td>\n",
       "      <td>62291</td>\n",
       "      <td>200</td>\n",
       "      <td>9色钻石珠光眼影盘</td>\n",
       "      <td>6</td>\n",
       "    </tr>\n",
       "    <tr>\n",
       "      <th>4</th>\n",
       "      <td>U087</td>\n",
       "      <td>21</td>\n",
       "      <td>女</td>\n",
       "      <td>有朋友</td>\n",
       "      <td>2</td>\n",
       "      <td>2</td>\n",
       "      <td>22973</td>\n",
       "      <td>53</td>\n",
       "      <td>敦乐视疲劳滴眼液(13ML)</td>\n",
       "      <td>2</td>\n",
       "    </tr>\n",
       "  </tbody>\n",
       "</table>\n",
       "</div>"
      ],
      "text/plain": [
       "   用户编号  年龄 性别   状态  下单次数  视力    年收入  年消费          近期购买产品  已注册月\n",
       "3  U149  24  男   单身     5   5  62291  200       9色钻石珠光眼影盘     6\n",
       "4  U087  21  女  有朋友     2   2  22973   53  敦乐视疲劳滴眼液(13ML)     2"
      ]
     },
     "execution_count": 141,
     "metadata": {},
     "output_type": "execute_result"
    }
   ],
   "source": [
    "df_user.iloc[3:5] # 序列号 3-4"
   ]
  },
  {
   "cell_type": "code",
   "execution_count": 143,
   "id": "b297f95c-a079-46b2-b092-d3daa23f6a6a",
   "metadata": {},
   "outputs": [
    {
     "data": {
      "text/html": [
       "<div>\n",
       "<style scoped>\n",
       "    .dataframe tbody tr th:only-of-type {\n",
       "        vertical-align: middle;\n",
       "    }\n",
       "\n",
       "    .dataframe tbody tr th {\n",
       "        vertical-align: top;\n",
       "    }\n",
       "\n",
       "    .dataframe thead th {\n",
       "        text-align: right;\n",
       "    }\n",
       "</style>\n",
       "<table border=\"1\" class=\"dataframe\">\n",
       "  <thead>\n",
       "    <tr style=\"text-align: right;\">\n",
       "      <th></th>\n",
       "      <th>用户编号</th>\n",
       "      <th>年龄</th>\n",
       "    </tr>\n",
       "  </thead>\n",
       "  <tbody>\n",
       "    <tr>\n",
       "      <th>0</th>\n",
       "      <td>U004</td>\n",
       "      <td>19</td>\n",
       "    </tr>\n",
       "    <tr>\n",
       "      <th>1</th>\n",
       "      <td>U067</td>\n",
       "      <td>36</td>\n",
       "    </tr>\n",
       "    <tr>\n",
       "      <th>2</th>\n",
       "      <td>U147</td>\n",
       "      <td>24</td>\n",
       "    </tr>\n",
       "    <tr>\n",
       "      <th>3</th>\n",
       "      <td>U149</td>\n",
       "      <td>24</td>\n",
       "    </tr>\n",
       "    <tr>\n",
       "      <th>4</th>\n",
       "      <td>U087</td>\n",
       "      <td>21</td>\n",
       "    </tr>\n",
       "    <tr>\n",
       "      <th>...</th>\n",
       "      <td>...</td>\n",
       "      <td>...</td>\n",
       "    </tr>\n",
       "    <tr>\n",
       "      <th>175</th>\n",
       "      <td>U180</td>\n",
       "      <td>48</td>\n",
       "    </tr>\n",
       "    <tr>\n",
       "      <th>176</th>\n",
       "      <td>U157</td>\n",
       "      <td>25</td>\n",
       "    </tr>\n",
       "    <tr>\n",
       "      <th>177</th>\n",
       "      <td>U158</td>\n",
       "      <td>26</td>\n",
       "    </tr>\n",
       "    <tr>\n",
       "      <th>178</th>\n",
       "      <td>U162</td>\n",
       "      <td>27</td>\n",
       "    </tr>\n",
       "    <tr>\n",
       "      <th>179</th>\n",
       "      <td>U176</td>\n",
       "      <td>40</td>\n",
       "    </tr>\n",
       "  </tbody>\n",
       "</table>\n",
       "<p>180 rows × 2 columns</p>\n",
       "</div>"
      ],
      "text/plain": [
       "     用户编号  年龄\n",
       "0    U004  19\n",
       "1    U067  36\n",
       "2    U147  24\n",
       "3    U149  24\n",
       "4    U087  21\n",
       "..    ...  ..\n",
       "175  U180  48\n",
       "176  U157  25\n",
       "177  U158  26\n",
       "178  U162  27\n",
       "179  U176  40\n",
       "\n",
       "[180 rows x 2 columns]"
      ]
     },
     "execution_count": 143,
     "metadata": {},
     "output_type": "execute_result"
    }
   ],
   "source": [
    "df_user.loc[:,['用户编号','年龄']]"
   ]
  },
  {
   "cell_type": "code",
   "execution_count": 145,
   "id": "06df99ac-97d0-42da-b5f3-61aed8e3ef90",
   "metadata": {},
   "outputs": [
    {
     "data": {
      "text/html": [
       "<div>\n",
       "<style scoped>\n",
       "    .dataframe tbody tr th:only-of-type {\n",
       "        vertical-align: middle;\n",
       "    }\n",
       "\n",
       "    .dataframe tbody tr th {\n",
       "        vertical-align: top;\n",
       "    }\n",
       "\n",
       "    .dataframe thead th {\n",
       "        text-align: right;\n",
       "    }\n",
       "</style>\n",
       "<table border=\"1\" class=\"dataframe\">\n",
       "  <thead>\n",
       "    <tr style=\"text-align: right;\">\n",
       "      <th></th>\n",
       "      <th>用户编号</th>\n",
       "      <th>年龄</th>\n",
       "    </tr>\n",
       "  </thead>\n",
       "  <tbody>\n",
       "    <tr>\n",
       "      <th>0</th>\n",
       "      <td>U004</td>\n",
       "      <td>19</td>\n",
       "    </tr>\n",
       "    <tr>\n",
       "      <th>1</th>\n",
       "      <td>U067</td>\n",
       "      <td>36</td>\n",
       "    </tr>\n",
       "    <tr>\n",
       "      <th>2</th>\n",
       "      <td>U147</td>\n",
       "      <td>24</td>\n",
       "    </tr>\n",
       "    <tr>\n",
       "      <th>3</th>\n",
       "      <td>U149</td>\n",
       "      <td>24</td>\n",
       "    </tr>\n",
       "    <tr>\n",
       "      <th>4</th>\n",
       "      <td>U087</td>\n",
       "      <td>21</td>\n",
       "    </tr>\n",
       "    <tr>\n",
       "      <th>...</th>\n",
       "      <td>...</td>\n",
       "      <td>...</td>\n",
       "    </tr>\n",
       "    <tr>\n",
       "      <th>175</th>\n",
       "      <td>U180</td>\n",
       "      <td>48</td>\n",
       "    </tr>\n",
       "    <tr>\n",
       "      <th>176</th>\n",
       "      <td>U157</td>\n",
       "      <td>25</td>\n",
       "    </tr>\n",
       "    <tr>\n",
       "      <th>177</th>\n",
       "      <td>U158</td>\n",
       "      <td>26</td>\n",
       "    </tr>\n",
       "    <tr>\n",
       "      <th>178</th>\n",
       "      <td>U162</td>\n",
       "      <td>27</td>\n",
       "    </tr>\n",
       "    <tr>\n",
       "      <th>179</th>\n",
       "      <td>U176</td>\n",
       "      <td>40</td>\n",
       "    </tr>\n",
       "  </tbody>\n",
       "</table>\n",
       "<p>180 rows × 2 columns</p>\n",
       "</div>"
      ],
      "text/plain": [
       "     用户编号  年龄\n",
       "0    U004  19\n",
       "1    U067  36\n",
       "2    U147  24\n",
       "3    U149  24\n",
       "4    U087  21\n",
       "..    ...  ..\n",
       "175  U180  48\n",
       "176  U157  25\n",
       "177  U158  26\n",
       "178  U162  27\n",
       "179  U176  40\n",
       "\n",
       "[180 rows x 2 columns]"
      ]
     },
     "execution_count": 145,
     "metadata": {},
     "output_type": "execute_result"
    }
   ],
   "source": [
    "df_user[['用户编号','年龄']]"
   ]
  },
  {
   "cell_type": "code",
   "execution_count": 147,
   "id": "e83471f5-b5b8-42f4-b6be-e6973462bad7",
   "metadata": {},
   "outputs": [
    {
     "data": {
      "text/html": [
       "<div>\n",
       "<style scoped>\n",
       "    .dataframe tbody tr th:only-of-type {\n",
       "        vertical-align: middle;\n",
       "    }\n",
       "\n",
       "    .dataframe tbody tr th {\n",
       "        vertical-align: top;\n",
       "    }\n",
       "\n",
       "    .dataframe thead th {\n",
       "        text-align: right;\n",
       "    }\n",
       "</style>\n",
       "<table border=\"1\" class=\"dataframe\">\n",
       "  <thead>\n",
       "    <tr style=\"text-align: right;\">\n",
       "      <th></th>\n",
       "      <th>用户编号</th>\n",
       "      <th>年龄</th>\n",
       "      <th>性别</th>\n",
       "    </tr>\n",
       "  </thead>\n",
       "  <tbody>\n",
       "    <tr>\n",
       "      <th>0</th>\n",
       "      <td>U004</td>\n",
       "      <td>19</td>\n",
       "      <td>女</td>\n",
       "    </tr>\n",
       "    <tr>\n",
       "      <th>1</th>\n",
       "      <td>U067</td>\n",
       "      <td>36</td>\n",
       "      <td>女</td>\n",
       "    </tr>\n",
       "    <tr>\n",
       "      <th>2</th>\n",
       "      <td>U147</td>\n",
       "      <td>24</td>\n",
       "      <td>女</td>\n",
       "    </tr>\n",
       "    <tr>\n",
       "      <th>3</th>\n",
       "      <td>U149</td>\n",
       "      <td>24</td>\n",
       "      <td>男</td>\n",
       "    </tr>\n",
       "    <tr>\n",
       "      <th>4</th>\n",
       "      <td>U087</td>\n",
       "      <td>21</td>\n",
       "      <td>女</td>\n",
       "    </tr>\n",
       "    <tr>\n",
       "      <th>...</th>\n",
       "      <td>...</td>\n",
       "      <td>...</td>\n",
       "      <td>...</td>\n",
       "    </tr>\n",
       "    <tr>\n",
       "      <th>175</th>\n",
       "      <td>U180</td>\n",
       "      <td>48</td>\n",
       "      <td>女</td>\n",
       "    </tr>\n",
       "    <tr>\n",
       "      <th>176</th>\n",
       "      <td>U157</td>\n",
       "      <td>25</td>\n",
       "      <td>女</td>\n",
       "    </tr>\n",
       "    <tr>\n",
       "      <th>177</th>\n",
       "      <td>U158</td>\n",
       "      <td>26</td>\n",
       "      <td>男</td>\n",
       "    </tr>\n",
       "    <tr>\n",
       "      <th>178</th>\n",
       "      <td>U162</td>\n",
       "      <td>27</td>\n",
       "      <td>女</td>\n",
       "    </tr>\n",
       "    <tr>\n",
       "      <th>179</th>\n",
       "      <td>U176</td>\n",
       "      <td>40</td>\n",
       "      <td>女</td>\n",
       "    </tr>\n",
       "  </tbody>\n",
       "</table>\n",
       "<p>180 rows × 3 columns</p>\n",
       "</div>"
      ],
      "text/plain": [
       "     用户编号  年龄 性别\n",
       "0    U004  19  女\n",
       "1    U067  36  女\n",
       "2    U147  24  女\n",
       "3    U149  24  男\n",
       "4    U087  21  女\n",
       "..    ...  .. ..\n",
       "175  U180  48  女\n",
       "176  U157  25  女\n",
       "177  U158  26  男\n",
       "178  U162  27  女\n",
       "179  U176  40  女\n",
       "\n",
       "[180 rows x 3 columns]"
      ]
     },
     "execution_count": 147,
     "metadata": {},
     "output_type": "execute_result"
    }
   ],
   "source": [
    "df_user.iloc[:,0:3]"
   ]
  },
  {
   "cell_type": "code",
   "execution_count": 148,
   "id": "9dba60cb-d7f5-407e-9293-d0a4beaca537",
   "metadata": {},
   "outputs": [
    {
     "data": {
      "text/html": [
       "<div>\n",
       "<style scoped>\n",
       "    .dataframe tbody tr th:only-of-type {\n",
       "        vertical-align: middle;\n",
       "    }\n",
       "\n",
       "    .dataframe tbody tr th {\n",
       "        vertical-align: top;\n",
       "    }\n",
       "\n",
       "    .dataframe thead th {\n",
       "        text-align: right;\n",
       "    }\n",
       "</style>\n",
       "<table border=\"1\" class=\"dataframe\">\n",
       "  <thead>\n",
       "    <tr style=\"text-align: right;\">\n",
       "      <th></th>\n",
       "      <th>用户编号</th>\n",
       "      <th>性别</th>\n",
       "    </tr>\n",
       "  </thead>\n",
       "  <tbody>\n",
       "    <tr>\n",
       "      <th>0</th>\n",
       "      <td>U004</td>\n",
       "      <td>女</td>\n",
       "    </tr>\n",
       "    <tr>\n",
       "      <th>1</th>\n",
       "      <td>U067</td>\n",
       "      <td>女</td>\n",
       "    </tr>\n",
       "    <tr>\n",
       "      <th>2</th>\n",
       "      <td>U147</td>\n",
       "      <td>女</td>\n",
       "    </tr>\n",
       "  </tbody>\n",
       "</table>\n",
       "</div>"
      ],
      "text/plain": [
       "   用户编号 性别\n",
       "0  U004  女\n",
       "1  U067  女\n",
       "2  U147  女"
      ]
     },
     "execution_count": 148,
     "metadata": {},
     "output_type": "execute_result"
    }
   ],
   "source": [
    "df_user.loc[0:2,['用户编号','性别']]"
   ]
  },
  {
   "cell_type": "code",
   "execution_count": 150,
   "id": "484513e7-8686-4051-9b6f-22432bc60a41",
   "metadata": {},
   "outputs": [
    {
     "data": {
      "text/html": [
       "<div>\n",
       "<style scoped>\n",
       "    .dataframe tbody tr th:only-of-type {\n",
       "        vertical-align: middle;\n",
       "    }\n",
       "\n",
       "    .dataframe tbody tr th {\n",
       "        vertical-align: top;\n",
       "    }\n",
       "\n",
       "    .dataframe thead th {\n",
       "        text-align: right;\n",
       "    }\n",
       "</style>\n",
       "<table border=\"1\" class=\"dataframe\">\n",
       "  <thead>\n",
       "    <tr style=\"text-align: right;\">\n",
       "      <th></th>\n",
       "      <th>用户编号</th>\n",
       "      <th>年龄</th>\n",
       "      <th>性别</th>\n",
       "      <th>状态</th>\n",
       "      <th>下单次数</th>\n",
       "      <th>视力</th>\n",
       "      <th>年收入</th>\n",
       "    </tr>\n",
       "  </thead>\n",
       "  <tbody>\n",
       "    <tr>\n",
       "      <th>70</th>\n",
       "      <td>U013</td>\n",
       "      <td>22</td>\n",
       "      <td>男</td>\n",
       "      <td>单身</td>\n",
       "      <td>4</td>\n",
       "      <td>3</td>\n",
       "      <td>106384</td>\n",
       "    </tr>\n",
       "    <tr>\n",
       "      <th>165</th>\n",
       "      <td>U163</td>\n",
       "      <td>28</td>\n",
       "      <td>男</td>\n",
       "      <td>有朋友</td>\n",
       "      <td>6</td>\n",
       "      <td>5</td>\n",
       "      <td>102131</td>\n",
       "    </tr>\n",
       "    <tr>\n",
       "      <th>171</th>\n",
       "      <td>U172</td>\n",
       "      <td>33</td>\n",
       "      <td>男</td>\n",
       "      <td>有朋友</td>\n",
       "      <td>4</td>\n",
       "      <td>5</td>\n",
       "      <td>105866</td>\n",
       "    </tr>\n",
       "  </tbody>\n",
       "</table>\n",
       "</div>"
      ],
      "text/plain": [
       "     用户编号  年龄 性别   状态  下单次数  视力     年收入\n",
       "70   U013  22  男   单身     4   3  106384\n",
       "165  U163  28  男  有朋友     6   5  102131\n",
       "171  U172  33  男  有朋友     4   5  105866"
      ]
     },
     "execution_count": 150,
     "metadata": {},
     "output_type": "execute_result"
    }
   ],
   "source": [
    "df_user.loc[df_user['年收入']>100000,'用户编号':'年收入']"
   ]
  },
  {
   "cell_type": "code",
   "execution_count": 155,
   "id": "3516e5cf-b286-41c6-8072-375fba780d22",
   "metadata": {},
   "outputs": [
    {
     "data": {
      "text/plain": [
       "性别\n",
       "女    46562.759615\n",
       "男    63438.881579\n",
       "Name: 年收入, dtype: float64"
      ]
     },
     "execution_count": 155,
     "metadata": {},
     "output_type": "execute_result"
    }
   ],
   "source": [
    "#df_user.groupby(['性别'])['年收入'].mean()\n",
    "df_user.groupby('性别')['年收入'].mean()\n"
   ]
  },
  {
   "cell_type": "code",
   "execution_count": 206,
   "id": "a41d6e49-451b-4897-8a75-8d4e6b605bc2",
   "metadata": {},
   "outputs": [
    {
     "data": {
      "text/html": [
       "<div>\n",
       "<style scoped>\n",
       "    .dataframe tbody tr th:only-of-type {\n",
       "        vertical-align: middle;\n",
       "    }\n",
       "\n",
       "    .dataframe tbody tr th {\n",
       "        vertical-align: top;\n",
       "    }\n",
       "\n",
       "    .dataframe thead th {\n",
       "        text-align: right;\n",
       "    }\n",
       "</style>\n",
       "<table border=\"1\" class=\"dataframe\">\n",
       "  <thead>\n",
       "    <tr style=\"text-align: right;\">\n",
       "      <th></th>\n",
       "      <th>年收入</th>\n",
       "      <th>年消费</th>\n",
       "    </tr>\n",
       "    <tr>\n",
       "      <th>视力</th>\n",
       "      <th></th>\n",
       "      <th></th>\n",
       "    </tr>\n",
       "  </thead>\n",
       "  <tbody>\n",
       "    <tr>\n",
       "      <th>1</th>\n",
       "      <td>51939.000000</td>\n",
       "      <td>34.000000</td>\n",
       "    </tr>\n",
       "    <tr>\n",
       "      <th>2</th>\n",
       "      <td>49257.038462</td>\n",
       "      <td>51.692308</td>\n",
       "    </tr>\n",
       "    <tr>\n",
       "      <th>3</th>\n",
       "      <td>50963.525773</td>\n",
       "      <td>87.185567</td>\n",
       "    </tr>\n",
       "    <tr>\n",
       "      <th>4</th>\n",
       "      <td>51661.958333</td>\n",
       "      <td>131.625000</td>\n",
       "    </tr>\n",
       "    <tr>\n",
       "      <th>5</th>\n",
       "      <td>67612.000000</td>\n",
       "      <td>178.935484</td>\n",
       "    </tr>\n",
       "  </tbody>\n",
       "</table>\n",
       "</div>"
      ],
      "text/plain": [
       "             年收入         年消费\n",
       "视力                          \n",
       "1   51939.000000   34.000000\n",
       "2   49257.038462   51.692308\n",
       "3   50963.525773   87.185567\n",
       "4   51661.958333  131.625000\n",
       "5   67612.000000  178.935484"
      ]
     },
     "execution_count": 206,
     "metadata": {},
     "output_type": "execute_result"
    }
   ],
   "source": [
    "df_user.pivot_table(['年收入','年消费'],['视力'],aggfunc='mean')"
   ]
  },
  {
   "cell_type": "code",
   "execution_count": 167,
   "id": "073962a7-4575-4399-8319-26c1745ee1f2",
   "metadata": {},
   "outputs": [
    {
     "data": {
      "image/png": "[encoded data removed]",
      "text/plain": [
       "<Figure size 500x300 with 1 Axes>"
      ]
     },
     "metadata": {},
     "output_type": "display_data"
    }
   ],
   "source": [
    "import matplotlib.pyplot as plt\n",
    "array = np.array([3.5,1.6,7.3,8.2,5.0])\n",
    "plt.figure(figsize=(5,3),facecolor='red')\n",
    "plt.plot(array)\n",
    "plt.show()"
   ]
  },
  {
   "cell_type": "code",
   "execution_count": 180,
   "id": "bc7c42b1-41bb-421a-93c9-b9dc18a7e7af",
   "metadata": {},
   "outputs": [
    {
     "data": {
      "text/plain": [
       "array([<Axes: >, <Axes: >, <Axes: >, <Axes: >], dtype=object)"
      ]
     },
     "execution_count": 180,
     "metadata": {},
     "output_type": "execute_result"
    },
    {
     "data": {
      "image/png": "[encoded data removed]",
      "text/plain": [
       "<Figure size 640x480 with 4 Axes>"
      ]
     },
     "metadata": {},
     "output_type": "display_data"
    }
   ],
   "source": [
    "df = pd.DataFrame(np.random.randn(1000,4),columns=['StockA','StcokB','StockC','StockD'])\n",
    "df = df.cumsum()\n",
    "#df = df.plot()\n",
    "df.plot(subplots=True,sharex=True)"
   ]
  },
  {
   "cell_type": "code",
   "execution_count": 181,
   "id": "63453312-6412-4cc4-8874-09ba096b5f04",
   "metadata": {},
   "outputs": [
    {
     "data": {
      "text/plain": [
       "<Axes: >"
      ]
     },
     "execution_count": 181,
     "metadata": {},
     "output_type": "execute_result"
    },
    {
     "data": {
      "image/png": "[encoded data removed]",
      "text/plain": [
       "<Figure size 640x480 with 1 Axes>"
      ]
     },
     "metadata": {},
     "output_type": "display_data"
    }
   ],
   "source": [
    "df.plot.box()"
   ]
  },
  {
   "cell_type": "code",
   "execution_count": 182,
   "id": "138455fd-2b44-41aa-84c7-3b612de532ed",
   "metadata": {},
   "outputs": [
    {
     "data": {
      "text/plain": [
       "<Axes: ylabel='Density'>"
      ]
     },
     "execution_count": 182,
     "metadata": {},
     "output_type": "execute_result"
    },
    {
     "data": {
      "image/png": "[encoded data removed]",
      "text/plain": [
       "<Figure size 640x480 with 1 Axes>"
      ]
     },
     "metadata": {},
     "output_type": "display_data"
    }
   ],
   "source": [
    "df.plot.kde()"
   ]
  },
  {
   "cell_type": "code",
   "execution_count": 183,
   "id": "8f5f6a12-4c39-4169-89e7-cb3e7e4f5629",
   "metadata": {},
   "outputs": [
    {
     "data": {
      "text/html": [
       "<div>\n",
       "<style scoped>\n",
       "    .dataframe tbody tr th:only-of-type {\n",
       "        vertical-align: middle;\n",
       "    }\n",
       "\n",
       "    .dataframe tbody tr th {\n",
       "        vertical-align: top;\n",
       "    }\n",
       "\n",
       "    .dataframe thead th {\n",
       "        text-align: right;\n",
       "    }\n",
       "</style>\n",
       "<table border=\"1\" class=\"dataframe\">\n",
       "  <thead>\n",
       "    <tr style=\"text-align: right;\">\n",
       "      <th></th>\n",
       "      <th>StockA</th>\n",
       "      <th>StcokB</th>\n",
       "      <th>StockC</th>\n",
       "      <th>StockD</th>\n",
       "    </tr>\n",
       "  </thead>\n",
       "  <tbody>\n",
       "    <tr>\n",
       "      <th>0</th>\n",
       "      <td>0.520223</td>\n",
       "      <td>-2.202188</td>\n",
       "      <td>-1.116894</td>\n",
       "      <td>0.908093</td>\n",
       "    </tr>\n",
       "    <tr>\n",
       "      <th>1</th>\n",
       "      <td>0.722909</td>\n",
       "      <td>-2.042987</td>\n",
       "      <td>-0.633809</td>\n",
       "      <td>1.323561</td>\n",
       "    </tr>\n",
       "    <tr>\n",
       "      <th>2</th>\n",
       "      <td>2.291402</td>\n",
       "      <td>-2.046311</td>\n",
       "      <td>-1.018596</td>\n",
       "      <td>3.694703</td>\n",
       "    </tr>\n",
       "    <tr>\n",
       "      <th>3</th>\n",
       "      <td>3.944824</td>\n",
       "      <td>-2.285424</td>\n",
       "      <td>-2.395847</td>\n",
       "      <td>5.207211</td>\n",
       "    </tr>\n",
       "    <tr>\n",
       "      <th>4</th>\n",
       "      <td>4.210681</td>\n",
       "      <td>-2.739123</td>\n",
       "      <td>-2.498832</td>\n",
       "      <td>3.426499</td>\n",
       "    </tr>\n",
       "    <tr>\n",
       "      <th>...</th>\n",
       "      <td>...</td>\n",
       "      <td>...</td>\n",
       "      <td>...</td>\n",
       "      <td>...</td>\n",
       "    </tr>\n",
       "    <tr>\n",
       "      <th>995</th>\n",
       "      <td>26.604536</td>\n",
       "      <td>31.493581</td>\n",
       "      <td>2.338436</td>\n",
       "      <td>31.786717</td>\n",
       "    </tr>\n",
       "    <tr>\n",
       "      <th>996</th>\n",
       "      <td>27.395982</td>\n",
       "      <td>31.501289</td>\n",
       "      <td>4.154278</td>\n",
       "      <td>32.944184</td>\n",
       "    </tr>\n",
       "    <tr>\n",
       "      <th>997</th>\n",
       "      <td>26.734825</td>\n",
       "      <td>32.113032</td>\n",
       "      <td>4.728204</td>\n",
       "      <td>32.257412</td>\n",
       "    </tr>\n",
       "    <tr>\n",
       "      <th>998</th>\n",
       "      <td>25.276966</td>\n",
       "      <td>30.868335</td>\n",
       "      <td>4.849148</td>\n",
       "      <td>31.633347</td>\n",
       "    </tr>\n",
       "    <tr>\n",
       "      <th>999</th>\n",
       "      <td>23.727912</td>\n",
       "      <td>31.819064</td>\n",
       "      <td>5.563986</td>\n",
       "      <td>30.461050</td>\n",
       "    </tr>\n",
       "  </tbody>\n",
       "</table>\n",
       "<p>1000 rows × 4 columns</p>\n",
       "</div>"
      ],
      "text/plain": [
       "        StockA     StcokB    StockC     StockD\n",
       "0     0.520223  -2.202188 -1.116894   0.908093\n",
       "1     0.722909  -2.042987 -0.633809   1.323561\n",
       "2     2.291402  -2.046311 -1.018596   3.694703\n",
       "3     3.944824  -2.285424 -2.395847   5.207211\n",
       "4     4.210681  -2.739123 -2.498832   3.426499\n",
       "..         ...        ...       ...        ...\n",
       "995  26.604536  31.493581  2.338436  31.786717\n",
       "996  27.395982  31.501289  4.154278  32.944184\n",
       "997  26.734825  32.113032  4.728204  32.257412\n",
       "998  25.276966  30.868335  4.849148  31.633347\n",
       "999  23.727912  31.819064  5.563986  30.461050\n",
       "\n",
       "[1000 rows x 4 columns]"
      ]
     },
     "execution_count": 183,
     "metadata": {},
     "output_type": "execute_result"
    }
   ],
   "source": [
    "#df.plot.violinplot()\n",
    "df"
   ]
  },
  {
   "cell_type": "markdown",
   "id": "34b20553-aa2d-4e50-9250-7e7921bfe9e3",
   "metadata": {},
   "source": [
    "ax，axs多图绘制?"
   ]
  },
  {
   "cell_type": "code",
   "execution_count": 187,
   "id": "b9b54bea-d757-469c-b358-4046563d48c9",
   "metadata": {},
   "outputs": [
    {
     "data": {
      "image/png": "[encoded data removed]",
      "text/plain": [
       "<Figure size 640x480 with 4 Axes>"
      ]
     },
     "metadata": {},
     "output_type": "display_data"
    }
   ],
   "source": [
    "#fig,ax= plt.subplots()\n",
    "fig,axs= plt.subplots(2,2)\n",
    "#ax.scatter(df['stockC'],df['stockA'],color='r')\n"
   ]
  },
  {
   "cell_type": "code",
   "execution_count": 190,
   "id": "2339450b-1997-4753-b051-1fb027bc5bbb",
   "metadata": {},
   "outputs": [
    {
     "data": {
      "text/plain": [
       "<seaborn.axisgrid.FacetGrid at 0x13ec58a50>"
      ]
     },
     "execution_count": 190,
     "metadata": {},
     "output_type": "execute_result"
    },
    {
     "data": {
      "image/png": "[encoded data removed]",
      "text/plain": [
       "<Figure size 571x500 with 1 Axes>"
      ]
     },
     "metadata": {},
     "output_type": "display_data"
    }
   ],
   "source": [
    "import seaborn as sns\n",
    "tips = sns.load_dataset('tips')\n",
    "sns.lmplot(x='total_bill',y='tip',hue='smoker',data=tips)"
   ]
  },
  {
   "cell_type": "code",
   "execution_count": 207,
   "id": "9b1dd81f-370e-4f90-9988-f6b97ad10c25",
   "metadata": {},
   "outputs": [
    {
     "data": {
      "image/png": "[encoded data removed]",
      "text/plain": [
       "<Figure size 1500x1500 with 9 Axes>"
      ]
     },
     "metadata": {},
     "output_type": "display_data"
    }
   ],
   "source": [
    "features =['近期购买产品','年龄','性别','状态','下单次数','视力','年收入','年消费']\n",
    "fig=plt.subplots(figsize=(15,15))\n",
    "for i,j in enumerate(features):\n",
    "    plt.subplot(4,2,i+1)\n",
    "    plt.subplots_adjust(hspace=0.5)\n",
    "    sns.countplot(x=j,data=df_user)\n",
    "    plt.title(\"用户数\")"
   ]
  },
  {
   "cell_type": "code",
   "execution_count": 193,
   "id": "67d1d2c4-8858-4314-a3fa-b33a2a2fad34",
   "metadata": {},
   "outputs": [
    {
     "data": {
      "text/html": [
       "<div>\n",
       "<style scoped>\n",
       "    .dataframe tbody tr th:only-of-type {\n",
       "        vertical-align: middle;\n",
       "    }\n",
       "\n",
       "    .dataframe tbody tr th {\n",
       "        vertical-align: top;\n",
       "    }\n",
       "\n",
       "    .dataframe thead th {\n",
       "        text-align: right;\n",
       "    }\n",
       "</style>\n",
       "<table border=\"1\" class=\"dataframe\">\n",
       "  <thead>\n",
       "    <tr style=\"text-align: right;\">\n",
       "      <th>性别</th>\n",
       "      <th>女</th>\n",
       "      <th>男</th>\n",
       "    </tr>\n",
       "    <tr>\n",
       "      <th>近期购买产品</th>\n",
       "      <th></th>\n",
       "      <th></th>\n",
       "    </tr>\n",
       "  </thead>\n",
       "  <tbody>\n",
       "    <tr>\n",
       "      <th>9色钻石珠光眼影盘</th>\n",
       "      <td>33</td>\n",
       "      <td>7</td>\n",
       "    </tr>\n",
       "    <tr>\n",
       "      <th>敦乐视疲劳滴眼液(13ML)</th>\n",
       "      <td>31</td>\n",
       "      <td>29</td>\n",
       "    </tr>\n",
       "    <tr>\n",
       "      <th>贝尔防蓝光眼镜(高级黑)</th>\n",
       "      <td>40</td>\n",
       "      <td>40</td>\n",
       "    </tr>\n",
       "  </tbody>\n",
       "</table>\n",
       "</div>"
      ],
      "text/plain": [
       "性别               女   男\n",
       "近期购买产品                \n",
       "9色钻石珠光眼影盘       33   7\n",
       "敦乐视疲劳滴眼液(13ML)  31  29\n",
       "贝尔防蓝光眼镜(高级黑)    40  40"
      ]
     },
     "execution_count": 193,
     "metadata": {},
     "output_type": "execute_result"
    }
   ],
   "source": [
    "pd.crosstab(df_user['近期购买产品'],df_user['性别'])"
   ]
  },
  {
   "cell_type": "code",
   "execution_count": 198,
   "id": "b14f0074-dcc0-4c3b-bd00-a1ead061ba15",
   "metadata": {},
   "outputs": [
    {
     "data": {
      "text/plain": [
       "<Axes: xlabel='近期购买产品', ylabel='count'>"
      ]
     },
     "execution_count": 198,
     "metadata": {},
     "output_type": "execute_result"
    },
    {
     "data": {
      "image/png": "[encoded data removed]",
      "text/plain": [
       "<Figure size 640x480 with 1 Axes>"
      ]
     },
     "metadata": {},
     "output_type": "display_data"
    }
   ],
   "source": [
    "sns.countplot(x='近期购买产品',hue='性别',data=df_user)"
   ]
  },
  {
   "cell_type": "code",
   "execution_count": 200,
   "id": "1e9ca1df-004d-4426-ac53-f1e1cc0063d3",
   "metadata": {},
   "outputs": [
    {
     "data": {
      "text/html": [
       "<div>\n",
       "<style scoped>\n",
       "    .dataframe tbody tr th:only-of-type {\n",
       "        vertical-align: middle;\n",
       "    }\n",
       "\n",
       "    .dataframe tbody tr th {\n",
       "        vertical-align: top;\n",
       "    }\n",
       "\n",
       "    .dataframe thead th {\n",
       "        text-align: right;\n",
       "    }\n",
       "</style>\n",
       "<table border=\"1\" class=\"dataframe\">\n",
       "  <thead>\n",
       "    <tr style=\"text-align: right;\">\n",
       "      <th></th>\n",
       "      <th>用户编号</th>\n",
       "      <th>年龄</th>\n",
       "      <th>性别</th>\n",
       "      <th>状态</th>\n",
       "      <th>下单次数</th>\n",
       "      <th>视力</th>\n",
       "      <th>年收入</th>\n",
       "      <th>年消费</th>\n",
       "      <th>近期购买产品</th>\n",
       "      <th>已注册月</th>\n",
       "    </tr>\n",
       "  </thead>\n",
       "  <tbody>\n",
       "    <tr>\n",
       "      <th>0</th>\n",
       "      <td>U147</td>\n",
       "      <td>24</td>\n",
       "      <td>女</td>\n",
       "      <td>单身</td>\n",
       "      <td>4</td>\n",
       "      <td>5</td>\n",
       "      <td>51006</td>\n",
       "      <td>100</td>\n",
       "      <td>9色钻石珠光眼影盘</td>\n",
       "      <td>6</td>\n",
       "    </tr>\n",
       "    <tr>\n",
       "      <th>1</th>\n",
       "      <td>U149</td>\n",
       "      <td>24</td>\n",
       "      <td>男</td>\n",
       "      <td>单身</td>\n",
       "      <td>5</td>\n",
       "      <td>5</td>\n",
       "      <td>62291</td>\n",
       "      <td>200</td>\n",
       "      <td>9色钻石珠光眼影盘</td>\n",
       "      <td>6</td>\n",
       "    </tr>\n",
       "    <tr>\n",
       "      <th>2</th>\n",
       "      <td>U141</td>\n",
       "      <td>22</td>\n",
       "      <td>女</td>\n",
       "      <td>单身</td>\n",
       "      <td>4</td>\n",
       "      <td>3</td>\n",
       "      <td>38658</td>\n",
       "      <td>106</td>\n",
       "      <td>9色钻石珠光眼影盘</td>\n",
       "      <td>4</td>\n",
       "    </tr>\n",
       "    <tr>\n",
       "      <th>3</th>\n",
       "      <td>U167</td>\n",
       "      <td>29</td>\n",
       "      <td>女</td>\n",
       "      <td>有朋友</td>\n",
       "      <td>7</td>\n",
       "      <td>5</td>\n",
       "      <td>75906</td>\n",
       "      <td>300</td>\n",
       "      <td>9色钻石珠光眼影盘</td>\n",
       "      <td>4</td>\n",
       "    </tr>\n",
       "    <tr>\n",
       "      <th>4</th>\n",
       "      <td>U142</td>\n",
       "      <td>22</td>\n",
       "      <td>女</td>\n",
       "      <td>单身</td>\n",
       "      <td>3</td>\n",
       "      <td>5</td>\n",
       "      <td>44781</td>\n",
       "      <td>120</td>\n",
       "      <td>9色钻石珠光眼影盘</td>\n",
       "      <td>6</td>\n",
       "    </tr>\n",
       "    <tr>\n",
       "      <th>5</th>\n",
       "      <td>U144</td>\n",
       "      <td>23</td>\n",
       "      <td>女</td>\n",
       "      <td>单身</td>\n",
       "      <td>4</td>\n",
       "      <td>5</td>\n",
       "      <td>48516</td>\n",
       "      <td>140</td>\n",
       "      <td>9色钻石珠光眼影盘</td>\n",
       "      <td>6</td>\n",
       "    </tr>\n",
       "    <tr>\n",
       "      <th>6</th>\n",
       "      <td>U146</td>\n",
       "      <td>23</td>\n",
       "      <td>女</td>\n",
       "      <td>单身</td>\n",
       "      <td>4</td>\n",
       "      <td>5</td>\n",
       "      <td>38556</td>\n",
       "      <td>100</td>\n",
       "      <td>9色钻石珠光眼影盘</td>\n",
       "      <td>6</td>\n",
       "    </tr>\n",
       "    <tr>\n",
       "      <th>7</th>\n",
       "      <td>U150</td>\n",
       "      <td>24</td>\n",
       "      <td>女</td>\n",
       "      <td>单身</td>\n",
       "      <td>5</td>\n",
       "      <td>5</td>\n",
       "      <td>39801</td>\n",
       "      <td>160</td>\n",
       "      <td>9色钻石珠光眼影盘</td>\n",
       "      <td>6</td>\n",
       "    </tr>\n",
       "    <tr>\n",
       "      <th>8</th>\n",
       "      <td>U151</td>\n",
       "      <td>25</td>\n",
       "      <td>女</td>\n",
       "      <td>有朋友</td>\n",
       "      <td>4</td>\n",
       "      <td>5</td>\n",
       "      <td>39801</td>\n",
       "      <td>120</td>\n",
       "      <td>9色钻石珠光眼影盘</td>\n",
       "      <td>6</td>\n",
       "    </tr>\n",
       "    <tr>\n",
       "      <th>9</th>\n",
       "      <td>U152</td>\n",
       "      <td>25</td>\n",
       "      <td>女</td>\n",
       "      <td>单身</td>\n",
       "      <td>4</td>\n",
       "      <td>4</td>\n",
       "      <td>52251</td>\n",
       "      <td>160</td>\n",
       "      <td>9色钻石珠光眼影盘</td>\n",
       "      <td>6</td>\n",
       "    </tr>\n",
       "    <tr>\n",
       "      <th>10</th>\n",
       "      <td>U159</td>\n",
       "      <td>26</td>\n",
       "      <td>女</td>\n",
       "      <td>单身</td>\n",
       "      <td>5</td>\n",
       "      <td>4</td>\n",
       "      <td>54741</td>\n",
       "      <td>180</td>\n",
       "      <td>9色钻石珠光眼影盘</td>\n",
       "      <td>6</td>\n",
       "    </tr>\n",
       "    <tr>\n",
       "      <th>11</th>\n",
       "      <td>U160</td>\n",
       "      <td>27</td>\n",
       "      <td>女</td>\n",
       "      <td>有朋友</td>\n",
       "      <td>4</td>\n",
       "      <td>5</td>\n",
       "      <td>73416</td>\n",
       "      <td>160</td>\n",
       "      <td>9色钻石珠光眼影盘</td>\n",
       "      <td>6</td>\n",
       "    </tr>\n",
       "    <tr>\n",
       "      <th>12</th>\n",
       "      <td>U168</td>\n",
       "      <td>30</td>\n",
       "      <td>男</td>\n",
       "      <td>有朋友</td>\n",
       "      <td>6</td>\n",
       "      <td>5</td>\n",
       "      <td>80560</td>\n",
       "      <td>280</td>\n",
       "      <td>9色钻石珠光眼影盘</td>\n",
       "      <td>6</td>\n",
       "    </tr>\n",
       "    <tr>\n",
       "      <th>13</th>\n",
       "      <td>U171</td>\n",
       "      <td>31</td>\n",
       "      <td>女</td>\n",
       "      <td>有朋友</td>\n",
       "      <td>6</td>\n",
       "      <td>5</td>\n",
       "      <td>79641</td>\n",
       "      <td>260</td>\n",
       "      <td>9色钻石珠光眼影盘</td>\n",
       "      <td>6</td>\n",
       "    </tr>\n",
       "    <tr>\n",
       "      <th>14</th>\n",
       "      <td>U173</td>\n",
       "      <td>34</td>\n",
       "      <td>女</td>\n",
       "      <td>单身</td>\n",
       "      <td>5</td>\n",
       "      <td>5</td>\n",
       "      <td>82131</td>\n",
       "      <td>150</td>\n",
       "      <td>9色钻石珠光眼影盘</td>\n",
       "      <td>6</td>\n",
       "    </tr>\n",
       "    <tr>\n",
       "      <th>15</th>\n",
       "      <td>U174</td>\n",
       "      <td>35</td>\n",
       "      <td>女</td>\n",
       "      <td>有朋友</td>\n",
       "      <td>4</td>\n",
       "      <td>5</td>\n",
       "      <td>82131</td>\n",
       "      <td>360</td>\n",
       "      <td>9色钻石珠光眼影盘</td>\n",
       "      <td>6</td>\n",
       "    </tr>\n",
       "    <tr>\n",
       "      <th>16</th>\n",
       "      <td>U178</td>\n",
       "      <td>45</td>\n",
       "      <td>女</td>\n",
       "      <td>单身</td>\n",
       "      <td>5</td>\n",
       "      <td>5</td>\n",
       "      <td>80886</td>\n",
       "      <td>160</td>\n",
       "      <td>9色钻石珠光眼影盘</td>\n",
       "      <td>6</td>\n",
       "    </tr>\n",
       "    <tr>\n",
       "      <th>17</th>\n",
       "      <td>U143</td>\n",
       "      <td>22</td>\n",
       "      <td>女</td>\n",
       "      <td>单身</td>\n",
       "      <td>4</td>\n",
       "      <td>5</td>\n",
       "      <td>38556</td>\n",
       "      <td>200</td>\n",
       "      <td>9色钻石珠光眼影盘</td>\n",
       "      <td>8</td>\n",
       "    </tr>\n",
       "    <tr>\n",
       "      <th>18</th>\n",
       "      <td>U145</td>\n",
       "      <td>23</td>\n",
       "      <td>男</td>\n",
       "      <td>单身</td>\n",
       "      <td>5</td>\n",
       "      <td>4</td>\n",
       "      <td>63536</td>\n",
       "      <td>100</td>\n",
       "      <td>9色钻石珠光眼影盘</td>\n",
       "      <td>8</td>\n",
       "    </tr>\n",
       "    <tr>\n",
       "      <th>19</th>\n",
       "      <td>U148</td>\n",
       "      <td>24</td>\n",
       "      <td>女</td>\n",
       "      <td>有朋友</td>\n",
       "      <td>4</td>\n",
       "      <td>5</td>\n",
       "      <td>47271</td>\n",
       "      <td>80</td>\n",
       "      <td>9色钻石珠光眼影盘</td>\n",
       "      <td>8</td>\n",
       "    </tr>\n",
       "    <tr>\n",
       "      <th>20</th>\n",
       "      <td>U153</td>\n",
       "      <td>25</td>\n",
       "      <td>男</td>\n",
       "      <td>有朋友</td>\n",
       "      <td>5</td>\n",
       "      <td>5</td>\n",
       "      <td>71006</td>\n",
       "      <td>200</td>\n",
       "      <td>9色钻石珠光眼影盘</td>\n",
       "      <td>8</td>\n",
       "    </tr>\n",
       "    <tr>\n",
       "      <th>21</th>\n",
       "      <td>U154</td>\n",
       "      <td>25</td>\n",
       "      <td>女</td>\n",
       "      <td>有朋友</td>\n",
       "      <td>4</td>\n",
       "      <td>3</td>\n",
       "      <td>54741</td>\n",
       "      <td>100</td>\n",
       "      <td>9色钻石珠光眼影盘</td>\n",
       "      <td>8</td>\n",
       "    </tr>\n",
       "    <tr>\n",
       "      <th>22</th>\n",
       "      <td>U155</td>\n",
       "      <td>25</td>\n",
       "      <td>女</td>\n",
       "      <td>单身</td>\n",
       "      <td>6</td>\n",
       "      <td>4</td>\n",
       "      <td>60966</td>\n",
       "      <td>180</td>\n",
       "      <td>9色钻石珠光眼影盘</td>\n",
       "      <td>8</td>\n",
       "    </tr>\n",
       "    <tr>\n",
       "      <th>23</th>\n",
       "      <td>U156</td>\n",
       "      <td>25</td>\n",
       "      <td>女</td>\n",
       "      <td>有朋友</td>\n",
       "      <td>6</td>\n",
       "      <td>5</td>\n",
       "      <td>65946</td>\n",
       "      <td>240</td>\n",
       "      <td>9色钻石珠光眼影盘</td>\n",
       "      <td>8</td>\n",
       "    </tr>\n",
       "    <tr>\n",
       "      <th>24</th>\n",
       "      <td>U161</td>\n",
       "      <td>27</td>\n",
       "      <td>女</td>\n",
       "      <td>单身</td>\n",
       "      <td>4</td>\n",
       "      <td>3</td>\n",
       "      <td>78396</td>\n",
       "      <td>100</td>\n",
       "      <td>9色钻石珠光眼影盘</td>\n",
       "      <td>8</td>\n",
       "    </tr>\n",
       "    <tr>\n",
       "      <th>25</th>\n",
       "      <td>U163</td>\n",
       "      <td>28</td>\n",
       "      <td>男</td>\n",
       "      <td>有朋友</td>\n",
       "      <td>6</td>\n",
       "      <td>5</td>\n",
       "      <td>102131</td>\n",
       "      <td>180</td>\n",
       "      <td>9色钻石珠光眼影盘</td>\n",
       "      <td>8</td>\n",
       "    </tr>\n",
       "    <tr>\n",
       "      <th>26</th>\n",
       "      <td>U164</td>\n",
       "      <td>28</td>\n",
       "      <td>女</td>\n",
       "      <td>有朋友</td>\n",
       "      <td>7</td>\n",
       "      <td>5</td>\n",
       "      <td>67191</td>\n",
       "      <td>180</td>\n",
       "      <td>9色钻石珠光眼影盘</td>\n",
       "      <td>8</td>\n",
       "    </tr>\n",
       "    <tr>\n",
       "      <th>27</th>\n",
       "      <td>U165</td>\n",
       "      <td>28</td>\n",
       "      <td>女</td>\n",
       "      <td>单身</td>\n",
       "      <td>6</td>\n",
       "      <td>5</td>\n",
       "      <td>78396</td>\n",
       "      <td>150</td>\n",
       "      <td>9色钻石珠光眼影盘</td>\n",
       "      <td>8</td>\n",
       "    </tr>\n",
       "    <tr>\n",
       "      <th>28</th>\n",
       "      <td>U166</td>\n",
       "      <td>29</td>\n",
       "      <td>女</td>\n",
       "      <td>单身</td>\n",
       "      <td>5</td>\n",
       "      <td>5</td>\n",
       "      <td>42290</td>\n",
       "      <td>180</td>\n",
       "      <td>9色钻石珠光眼影盘</td>\n",
       "      <td>8</td>\n",
       "    </tr>\n",
       "    <tr>\n",
       "      <th>29</th>\n",
       "      <td>U169</td>\n",
       "      <td>30</td>\n",
       "      <td>女</td>\n",
       "      <td>单身</td>\n",
       "      <td>5</td>\n",
       "      <td>4</td>\n",
       "      <td>93336</td>\n",
       "      <td>160</td>\n",
       "      <td>9色钻石珠光眼影盘</td>\n",
       "      <td>8</td>\n",
       "    </tr>\n",
       "    <tr>\n",
       "      <th>30</th>\n",
       "      <td>U170</td>\n",
       "      <td>30</td>\n",
       "      <td>女</td>\n",
       "      <td>有朋友</td>\n",
       "      <td>5</td>\n",
       "      <td>5</td>\n",
       "      <td>89601</td>\n",
       "      <td>150</td>\n",
       "      <td>9色钻石珠光眼影盘</td>\n",
       "      <td>8</td>\n",
       "    </tr>\n",
       "    <tr>\n",
       "      <th>31</th>\n",
       "      <td>U172</td>\n",
       "      <td>33</td>\n",
       "      <td>男</td>\n",
       "      <td>有朋友</td>\n",
       "      <td>4</td>\n",
       "      <td>5</td>\n",
       "      <td>105866</td>\n",
       "      <td>200</td>\n",
       "      <td>9色钻石珠光眼影盘</td>\n",
       "      <td>8</td>\n",
       "    </tr>\n",
       "    <tr>\n",
       "      <th>32</th>\n",
       "      <td>U175</td>\n",
       "      <td>38</td>\n",
       "      <td>女</td>\n",
       "      <td>有朋友</td>\n",
       "      <td>5</td>\n",
       "      <td>5</td>\n",
       "      <td>94581</td>\n",
       "      <td>150</td>\n",
       "      <td>9色钻石珠光眼影盘</td>\n",
       "      <td>8</td>\n",
       "    </tr>\n",
       "    <tr>\n",
       "      <th>33</th>\n",
       "      <td>U177</td>\n",
       "      <td>42</td>\n",
       "      <td>女</td>\n",
       "      <td>单身</td>\n",
       "      <td>5</td>\n",
       "      <td>4</td>\n",
       "      <td>79641</td>\n",
       "      <td>200</td>\n",
       "      <td>9色钻石珠光眼影盘</td>\n",
       "      <td>8</td>\n",
       "    </tr>\n",
       "    <tr>\n",
       "      <th>34</th>\n",
       "      <td>U179</td>\n",
       "      <td>47</td>\n",
       "      <td>女</td>\n",
       "      <td>有朋友</td>\n",
       "      <td>4</td>\n",
       "      <td>5</td>\n",
       "      <td>94581</td>\n",
       "      <td>120</td>\n",
       "      <td>9色钻石珠光眼影盘</td>\n",
       "      <td>8</td>\n",
       "    </tr>\n",
       "    <tr>\n",
       "      <th>35</th>\n",
       "      <td>U180</td>\n",
       "      <td>48</td>\n",
       "      <td>女</td>\n",
       "      <td>单身</td>\n",
       "      <td>4</td>\n",
       "      <td>5</td>\n",
       "      <td>85508</td>\n",
       "      <td>180</td>\n",
       "      <td>9色钻石珠光眼影盘</td>\n",
       "      <td>8</td>\n",
       "    </tr>\n",
       "    <tr>\n",
       "      <th>36</th>\n",
       "      <td>U157</td>\n",
       "      <td>25</td>\n",
       "      <td>女</td>\n",
       "      <td>有朋友</td>\n",
       "      <td>4</td>\n",
       "      <td>5</td>\n",
       "      <td>64701</td>\n",
       "      <td>170</td>\n",
       "      <td>9色钻石珠光眼影盘</td>\n",
       "      <td>10</td>\n",
       "    </tr>\n",
       "    <tr>\n",
       "      <th>37</th>\n",
       "      <td>U158</td>\n",
       "      <td>26</td>\n",
       "      <td>男</td>\n",
       "      <td>单身</td>\n",
       "      <td>4</td>\n",
       "      <td>3</td>\n",
       "      <td>79721</td>\n",
       "      <td>100</td>\n",
       "      <td>9色钻石珠光眼影盘</td>\n",
       "      <td>11</td>\n",
       "    </tr>\n",
       "    <tr>\n",
       "      <th>38</th>\n",
       "      <td>U162</td>\n",
       "      <td>27</td>\n",
       "      <td>女</td>\n",
       "      <td>有朋友</td>\n",
       "      <td>4</td>\n",
       "      <td>4</td>\n",
       "      <td>80886</td>\n",
       "      <td>100</td>\n",
       "      <td>9色钻石珠光眼影盘</td>\n",
       "      <td>11</td>\n",
       "    </tr>\n",
       "    <tr>\n",
       "      <th>39</th>\n",
       "      <td>U176</td>\n",
       "      <td>40</td>\n",
       "      <td>女</td>\n",
       "      <td>单身</td>\n",
       "      <td>6</td>\n",
       "      <td>5</td>\n",
       "      <td>73416</td>\n",
       "      <td>200</td>\n",
       "      <td>9色钻石珠光眼影盘</td>\n",
       "      <td>11</td>\n",
       "    </tr>\n",
       "  </tbody>\n",
       "</table>\n",
       "</div>"
      ],
      "text/plain": [
       "    用户编号  年龄 性别   状态  下单次数  视力     年收入  年消费     近期购买产品  已注册月\n",
       "0   U147  24  女   单身     4   5   51006  100  9色钻石珠光眼影盘     6\n",
       "1   U149  24  男   单身     5   5   62291  200  9色钻石珠光眼影盘     6\n",
       "2   U141  22  女   单身     4   3   38658  106  9色钻石珠光眼影盘     4\n",
       "3   U167  29  女  有朋友     7   5   75906  300  9色钻石珠光眼影盘     4\n",
       "4   U142  22  女   单身     3   5   44781  120  9色钻石珠光眼影盘     6\n",
       "5   U144  23  女   单身     4   5   48516  140  9色钻石珠光眼影盘     6\n",
       "6   U146  23  女   单身     4   5   38556  100  9色钻石珠光眼影盘     6\n",
       "7   U150  24  女   单身     5   5   39801  160  9色钻石珠光眼影盘     6\n",
       "8   U151  25  女  有朋友     4   5   39801  120  9色钻石珠光眼影盘     6\n",
       "9   U152  25  女   单身     4   4   52251  160  9色钻石珠光眼影盘     6\n",
       "10  U159  26  女   单身     5   4   54741  180  9色钻石珠光眼影盘     6\n",
       "11  U160  27  女  有朋友     4   5   73416  160  9色钻石珠光眼影盘     6\n",
       "12  U168  30  男  有朋友     6   5   80560  280  9色钻石珠光眼影盘     6\n",
       "13  U171  31  女  有朋友     6   5   79641  260  9色钻石珠光眼影盘     6\n",
       "14  U173  34  女   单身     5   5   82131  150  9色钻石珠光眼影盘     6\n",
       "15  U174  35  女  有朋友     4   5   82131  360  9色钻石珠光眼影盘     6\n",
       "16  U178  45  女   单身     5   5   80886  160  9色钻石珠光眼影盘     6\n",
       "17  U143  22  女   单身     4   5   38556  200  9色钻石珠光眼影盘     8\n",
       "18  U145  23  男   单身     5   4   63536  100  9色钻石珠光眼影盘     8\n",
       "19  U148  24  女  有朋友     4   5   47271   80  9色钻石珠光眼影盘     8\n",
       "20  U153  25  男  有朋友     5   5   71006  200  9色钻石珠光眼影盘     8\n",
       "21  U154  25  女  有朋友     4   3   54741  100  9色钻石珠光眼影盘     8\n",
       "22  U155  25  女   单身     6   4   60966  180  9色钻石珠光眼影盘     8\n",
       "23  U156  25  女  有朋友     6   5   65946  240  9色钻石珠光眼影盘     8\n",
       "24  U161  27  女   单身     4   3   78396  100  9色钻石珠光眼影盘     8\n",
       "25  U163  28  男  有朋友     6   5  102131  180  9色钻石珠光眼影盘     8\n",
       "26  U164  28  女  有朋友     7   5   67191  180  9色钻石珠光眼影盘     8\n",
       "27  U165  28  女   单身     6   5   78396  150  9色钻石珠光眼影盘     8\n",
       "28  U166  29  女   单身     5   5   42290  180  9色钻石珠光眼影盘     8\n",
       "29  U169  30  女   单身     5   4   93336  160  9色钻石珠光眼影盘     8\n",
       "30  U170  30  女  有朋友     5   5   89601  150  9色钻石珠光眼影盘     8\n",
       "31  U172  33  男  有朋友     4   5  105866  200  9色钻石珠光眼影盘     8\n",
       "32  U175  38  女  有朋友     5   5   94581  150  9色钻石珠光眼影盘     8\n",
       "33  U177  42  女   单身     5   4   79641  200  9色钻石珠光眼影盘     8\n",
       "34  U179  47  女  有朋友     4   5   94581  120  9色钻石珠光眼影盘     8\n",
       "35  U180  48  女   单身     4   5   85508  180  9色钻石珠光眼影盘     8\n",
       "36  U157  25  女  有朋友     4   5   64701  170  9色钻石珠光眼影盘    10\n",
       "37  U158  26  男   单身     4   3   79721  100  9色钻石珠光眼影盘    11\n",
       "38  U162  27  女  有朋友     4   4   80886  100  9色钻石珠光眼影盘    11\n",
       "39  U176  40  女   单身     6   5   73416  200  9色钻石珠光眼影盘    11"
      ]
     },
     "execution_count": 200,
     "metadata": {},
     "output_type": "execute_result"
    }
   ],
   "source": [
    "df_eysshade = df_user.loc[df_user['近期购买产品']=='9色钻石珠光眼影盘'].reset_index(drop=True)\n",
    "df_eysshade"
   ]
  },
  {
   "cell_type": "code",
   "execution_count": 201,
   "id": "2b86d878-59fb-4ee6-94bf-f549b5d1f60c",
   "metadata": {},
   "outputs": [
    {
     "name": "stderr",
     "output_type": "stream",
     "text": [
      "/opt/anaconda3/lib/python3.11/site-packages/seaborn/_oldcore.py:1119: FutureWarning: use_inf_as_na option is deprecated and will be removed in a future version. Convert inf values to NaN before operating instead.\n",
      "  with pd.option_context('mode.use_inf_as_na', True):\n"
     ]
    },
    {
     "data": {
      "text/plain": [
       "<seaborn.axisgrid.FacetGrid at 0x140f47a90>"
      ]
     },
     "execution_count": 201,
     "metadata": {},
     "output_type": "execute_result"
    },
    {
     "data": {
      "image/png": "[encoded data removed]",
      "text/plain": [
       "<Figure size 500x500 with 1 Axes>"
      ]
     },
     "metadata": {},
     "output_type": "display_data"
    }
   ],
   "source": [
    "sns.displot(df_eysshade['年龄'])"
   ]
  },
  {
   "cell_type": "code",
   "execution_count": 202,
   "id": "ca8cc123-d033-4d2a-a465-3ffc8a7d9229",
   "metadata": {},
   "outputs": [
    {
     "data": {
      "text/plain": [
       "<Axes: xlabel='年龄', ylabel='count'>"
      ]
     },
     "execution_count": 202,
     "metadata": {},
     "output_type": "execute_result"
    },
    {
     "data": {
      "image/png": "[encoded data removed]",
      "text/plain": [
       "<Figure size 640x480 with 1 Axes>"
      ]
     },
     "metadata": {},
     "output_type": "display_data"
    }
   ],
   "source": [
    "sns.countplot(x='年龄',hue='性别',data=df_eysshade)"
   ]
  },
  {
   "cell_type": "code",
   "execution_count": 204,
   "id": "2700c62e-b05f-4e40-95fe-e48a97f52387",
   "metadata": {},
   "outputs": [
    {
     "data": {
      "text/html": [
       "<div>\n",
       "<style scoped>\n",
       "    .dataframe tbody tr th:only-of-type {\n",
       "        vertical-align: middle;\n",
       "    }\n",
       "\n",
       "    .dataframe tbody tr th {\n",
       "        vertical-align: top;\n",
       "    }\n",
       "\n",
       "    .dataframe thead th {\n",
       "        text-align: right;\n",
       "    }\n",
       "</style>\n",
       "<table border=\"1\" class=\"dataframe\">\n",
       "  <thead>\n",
       "    <tr style=\"text-align: right;\">\n",
       "      <th>状态</th>\n",
       "      <th>单身</th>\n",
       "      <th>有朋友</th>\n",
       "    </tr>\n",
       "    <tr>\n",
       "      <th>性别</th>\n",
       "      <th></th>\n",
       "      <th></th>\n",
       "    </tr>\n",
       "  </thead>\n",
       "  <tbody>\n",
       "    <tr>\n",
       "      <th>女</th>\n",
       "      <td>19</td>\n",
       "      <td>14</td>\n",
       "    </tr>\n",
       "    <tr>\n",
       "      <th>男</th>\n",
       "      <td>3</td>\n",
       "      <td>4</td>\n",
       "    </tr>\n",
       "  </tbody>\n",
       "</table>\n",
       "</div>"
      ],
      "text/plain": [
       "状态  单身  有朋友\n",
       "性别         \n",
       "女   19   14\n",
       "男    3    4"
      ]
     },
     "execution_count": 204,
     "metadata": {},
     "output_type": "execute_result"
    }
   ],
   "source": [
    "pd.pivot_table(df_eysshade,'用户编号',index=['性别'],columns=['状态'],aggfunc=len)"
   ]
  },
  {
   "cell_type": "code",
   "execution_count": null,
   "id": "2043dbc9-c85d-4fd9-9b33-d3c61a55e3a8",
   "metadata": {},
   "outputs": [],
   "source": []
  }
 ],
 "metadata": {
  "kernelspec": {
   "display_name": "Python 3 (ipykernel)",
   "language": "python",
   "name": "python3"
  },
  "language_info": {
   "codemirror_mode": {
    "name": "ipython",
    "version": 3
   },
   "file_extension": ".py",
   "mimetype": "text/x-python",
   "name": "python",
   "nbconvert_exporter": "python",
   "pygments_lexer": "ipython3",
   "version": "3.11.7"
  }
 },
 "nbformat": 4,
 "nbformat_minor": 5
}
